{
  "cells": [
    {
      "cell_type": "markdown",
      "metadata": {
        "id": "08-3K_10YDRI"
      },
      "source": [
        "## Library imports"
      ]
    },
    {
      "cell_type": "code",
      "execution_count": 1,
      "metadata": {
        "colab": {
          "base_uri": "https://localhost:8080/"
        },
        "id": "EIwcpXjn2xOV",
        "outputId": "8ebdf675-e400-407a-efef-6cc20577105c"
      },
      "outputs": [
        {
          "name": "stdout",
          "output_type": "stream",
          "text": [
            "Requirement already satisfied: augmax in /coc/pskynet1/jbjorner3/miniconda3/envs/george-37-v3/lib/python3.7/site-packages (0.2.2)\n",
            "Requirement already satisfied: einops>=0.3 in /coc/pskynet1/jbjorner3/miniconda3/envs/george-37-v3/lib/python3.7/site-packages (from augmax) (0.4.1)\n",
            "Requirement already satisfied: jax>=0.1 in /coc/pskynet1/jbjorner3/miniconda3/envs/george-37-v3/lib/python3.7/site-packages (from augmax) (0.3.21)\n",
            "Requirement already satisfied: scipy>=1.5 in /coc/pskynet1/jbjorner3/miniconda3/envs/george-37-v3/lib/python3.7/site-packages (from jax>=0.1->augmax) (1.7.3)\n",
            "Requirement already satisfied: typing-extensions in /coc/pskynet1/jbjorner3/miniconda3/envs/george-37-v3/lib/python3.7/site-packages (from jax>=0.1->augmax) (4.3.0)\n",
            "Requirement already satisfied: etils[epath] in /coc/pskynet1/jbjorner3/miniconda3/envs/george-37-v3/lib/python3.7/site-packages (from jax>=0.1->augmax) (0.7.1)\n",
            "Requirement already satisfied: opt-einsum in /coc/pskynet1/jbjorner3/miniconda3/envs/george-37-v3/lib/python3.7/site-packages (from jax>=0.1->augmax) (3.3.0)\n",
            "Requirement already satisfied: numpy>=1.20 in /coc/pskynet1/jbjorner3/miniconda3/envs/george-37-v3/lib/python3.7/site-packages (from jax>=0.1->augmax) (1.21.6)\n",
            "Requirement already satisfied: absl-py in /coc/pskynet1/jbjorner3/miniconda3/envs/george-37-v3/lib/python3.7/site-packages (from jax>=0.1->augmax) (1.2.0)\n",
            "Requirement already satisfied: importlib_resources in /coc/pskynet1/jbjorner3/miniconda3/envs/george-37-v3/lib/python3.7/site-packages (from etils[epath]->jax>=0.1->augmax) (5.9.0)\n",
            "Requirement already satisfied: zipp in /coc/pskynet1/jbjorner3/miniconda3/envs/george-37-v3/lib/python3.7/site-packages (from etils[epath]->jax>=0.1->augmax) (3.8.1)\n"
          ]
        }
      ],
      "source": [
        "! pip install augmax\n",
        "# Install the newest JAXlib version.\n",
        "! pip install --upgrade -q pip jax jaxlib\n",
        "# Install Flax at head:\n",
        "! pip install --upgrade -q git+https://github.com/google/flax.git"
      ]
    },
    {
      "cell_type": "markdown",
      "metadata": {
        "id": "pxFk74rKYOev"
      },
      "source": [
        "## Permutation utils"
      ]
    },
    {
      "cell_type": "code",
      "execution_count": 82,
      "metadata": {
        "id": "Bqev0bBvBWOw"
      },
      "outputs": [],
      "source": [
        "from collections import defaultdict\n",
        "from typing import NamedTuple\n",
        "\n",
        "import jax.numpy as jnp\n",
        "from jax import random\n",
        "from scipy.optimize import linear_sum_assignment\n",
        "\n",
        "\n",
        "class PermutationSpec(NamedTuple):\n",
        "  perm_to_axes: dict\n",
        "  axes_to_perm: dict\n",
        "\n",
        "def permutation_spec_from_axes_to_perm(axes_to_perm: dict) -> PermutationSpec:\n",
        "  perm_to_axes = defaultdict(list)\n",
        "  for wk, axis_perms in axes_to_perm.items():\n",
        "    for axis, perm in enumerate(axis_perms):\n",
        "      if perm is not None:\n",
        "        perm_to_axes[perm].append((wk, axis))\n",
        "  return PermutationSpec(perm_to_axes=dict(perm_to_axes), axes_to_perm=axes_to_perm)\n",
        "\n",
        "def mlp_permutation_spec(num_hidden_layers: int) -> PermutationSpec:\n",
        "  \"\"\"We assume that one permutation cannot appear in two axes of the same weight array.\"\"\"\n",
        "  assert num_hidden_layers >= 1\n",
        "  return permutation_spec_from_axes_to_perm({\n",
        "      \"Dense_0/kernel\": (None, \"P_0\"),\n",
        "      **{f\"Dense_{i}/kernel\": (f\"P_{i-1}\", f\"P_{i}\")\n",
        "         for i in range(1, num_hidden_layers)},\n",
        "      **{f\"Dense_{i}/bias\": (f\"P_{i}\", )\n",
        "         for i in range(num_hidden_layers)},\n",
        "      f\"Dense_{num_hidden_layers}/kernel\": (f\"P_{num_hidden_layers-1}\", None),\n",
        "      f\"Dense_{num_hidden_layers}/bias\": (None, ),\n",
        "  })\n",
        "\n",
        "def get_permuted_param(ps: PermutationSpec, perm, k: str, params, except_axis=None):\n",
        "  \"\"\"Get parameter `k` from `params`, with the permutations applied.\"\"\"\n",
        "  w = params[k]\n",
        "  # import ipdb; ipdb.set_trace()\n",
        "  # print(\"get_perm\", ps.axes_to_perm[k])\n",
        "  for axis, p in enumerate(ps.axes_to_perm[k]):\n",
        "    # Skip the axis we're trying to permute.\n",
        "    if axis == except_axis:\n",
        "      continue\n",
        "\n",
        "    # None indicates that there is no permutation relevant to that axis.\n",
        "    if p is not None:\n",
        "      # w = jnp.take(w, perm[p], axis=axis)\n",
        "      if axis == 0: #and (\"bias\" not in k):\n",
        "        w = perm[p] @ w\n",
        "      else:\n",
        "        w = w @ perm[p].T\n",
        "\n",
        "  return w\n",
        "\n",
        "def apply_permutation(ps: PermutationSpec, perm, params):\n",
        "  \"\"\"Apply a `perm` to `params`.\"\"\"\n",
        "  return {k: get_permuted_param(ps, perm, k, params) for k in params.keys()}\n",
        "\n",
        "def weight_matching(rng, ps: PermutationSpec, params_a, params_b, max_iter=100, init_perm=None):\n",
        "  \"\"\"Find a permutation of `params_b` to make them match `params_a`.\"\"\"\n",
        "  perm_sizes = {p: params_a[axes[0][0]].shape[axes[0][1]] for p, axes in ps.perm_to_axes.items()}\n",
        "\n",
        "  # perm = {p: jnp.arange(n) for p, n in perm_sizes.items()} if init_perm is None else init_perm\n",
        "  perm = {p: jnp.eye(n) for p, n in perm_sizes.items()} if init_perm is None else init_perm\n",
        "  perm_names = list(perm.keys())\n",
        "  # import ipdb; ipdb.set_trace()\n",
        "  for iteration in range(max_iter):\n",
        "    progress = False\n",
        "    for p_ix in random.permutation(rngmix(rng, iteration), len(perm_names)):\n",
        "      p = perm_names[p_ix]\n",
        "      n = perm_sizes[p]\n",
        "      A = jnp.zeros((n, n))\n",
        "      for wk, axis in ps.perm_to_axes[p]:\n",
        "        \n",
        "        w_a = params_a[wk]\n",
        "        w_b = get_permuted_param(ps, perm, wk, params_b, except_axis=axis)\n",
        "\n",
        "        w_a = jnp.moveaxis(w_a, axis, 0).reshape((n, -1))\n",
        "        w_b = jnp.moveaxis(w_b, axis, 0).reshape((n, -1))\n",
        "        # U, S, Vh = jnp.linalg.svd(w_a @ w_b.T, full_matrices=False)\n",
        "        # print(jnp.linalg.norm((U @ Vh) @ w_a - w_b))\n",
        "        # print(jnp.linalg.norm((U @ Vh).T @ w_a - w_b))\n",
        "        # import ipdb; ipdb.set_trace()\n",
        "\n",
        "        A += w_a @ w_b.T\n",
        "\n",
        "      # ri, ci = linear_sum_assignment(A, maximize=True)\n",
        "      U, S, Vh = jnp.linalg.svd(A, full_matrices=False)\n",
        "      # print(U.shape, Vh.shape)\n",
        "      Q = U @ Vh\n",
        "      # assert (ri == jnp.arange(len(ri))).all()\n",
        "\n",
        "      # oldL = jnp.vdot(A, jnp.eye(n)[perm[p]]) cost of current assignment\n",
        "      # newL = jnp.vdot(A, jnp.eye(n)[ci, :])\n",
        "      # print(f\"{iteration}/{p}: {newL - oldL}\")\n",
        "      # progress = progress or newL > oldL + 1e-12\n",
        "\n",
        "      # perm[p] = jnp.array(ci)\n",
        "      \n",
        "      oldL = jnp.vdot(A, perm[p])\n",
        "      newL = jnp.vdot(A, Q)\n",
        "      print(f\"{iteration}/{p}: {newL - oldL}\")\n",
        "      progress = progress or newL > oldL + 1e-12\n",
        "\n",
        "      perm[p] = Q\n",
        "\n",
        "    if not progress:\n",
        "      break\n",
        "\n",
        "  return perm\n",
        "\n",
        "def test_weight_matching():\n",
        "  \"\"\"If we just have a single hidden layer then it should converge after just one step.\"\"\"\n",
        "  ps = mlp_permutation_spec(num_hidden_layers=1)\n",
        "  rng = random.PRNGKey(123)\n",
        "  num_hidden = 10\n",
        "  shapes = {\n",
        "      \"Dense_0/kernel\": (2, num_hidden),\n",
        "      \"Dense_0/bias\": (num_hidden, ),\n",
        "      \"Dense_1/kernel\": (num_hidden, 3),\n",
        "      \"Dense_1/bias\": (3, )\n",
        "  }\n",
        "  params_a = {k: random.normal(rngmix(rng, f\"a-{k}\"), shape) for k, shape in shapes.items()}\n",
        "  params_b = {k: random.normal(rngmix(rng, f\"b-{k}\"), shape) for k, shape in shapes.items()}\n",
        "  perm = weight_matching(rng, ps, params_a, params_b)\n",
        "  print(perm)\n",
        "\n"
      ]
    },
    {
      "cell_type": "markdown",
      "metadata": {
        "id": "MRRnQciSYXVu"
      },
      "source": [
        "## Utils"
      ]
    },
    {
      "cell_type": "code",
      "execution_count": 3,
      "metadata": {
        "id": "186MTf_d3Tvh"
      },
      "outputs": [],
      "source": [
        "import operator\n",
        "import re\n",
        "import time\n",
        "\n",
        "import jax.numpy as jnp\n",
        "from flax import traverse_util\n",
        "from flax.core import freeze, unfreeze\n",
        "from jax import random, tree_map\n",
        "from jax.tree_util import tree_reduce\n",
        "\n",
        "rngmix = lambda rng, x: random.fold_in(rng, hash(x))\n",
        "\n",
        "class RngPooper:\n",
        "  \"\"\"A stateful wrapper around stateless random.PRNGKey's.\"\"\"\n",
        "\n",
        "  def __init__(self, init_rng):\n",
        "    self.rng = init_rng\n",
        "\n",
        "  def poop(self):\n",
        "    self.rng, rng_key = random.split(self.rng)\n",
        "    return rng_key\n",
        "\n",
        "def l1prox(x, alpha):\n",
        "  return jnp.sign(x) * jnp.maximum(0, jnp.abs(x) - alpha)\n",
        "\n",
        "def flatten_params(params):\n",
        "  return {\"/\".join(k): v for k, v in traverse_util.flatten_dict(unfreeze(params)).items()}\n",
        "\n",
        "def unflatten_params(flat_params):\n",
        "  return freeze(\n",
        "      traverse_util.unflatten_dict({tuple(k.split(\"/\")): v\n",
        "                                    for k, v in flat_params.items()}))\n",
        "\n",
        "def merge_params(a, b):\n",
        "  return unflatten_params({**a, **b})\n",
        "\n",
        "def kmatch(pattern, key):\n",
        "  regex = \"^\"\n",
        "  i = 0\n",
        "  while i < len(pattern):\n",
        "    if pattern[i] == \"*\":\n",
        "      if i + 1 < len(pattern) and pattern[i + 1] == \"*\":\n",
        "        regex += \"(.*)\"\n",
        "        i += 2\n",
        "      else:\n",
        "        regex += \"([^\\/]*)\"\n",
        "        i += 1\n",
        "    else:\n",
        "      regex += pattern[i]\n",
        "      i += 1\n",
        "  regex += \"$\"\n",
        "  return re.fullmatch(regex, key)\n",
        "\n",
        "assert kmatch(\"*\", \"a\") is not None\n",
        "assert kmatch(\"*\", \"a\").group(0) == \"a\"\n",
        "assert kmatch(\"*\", \"a\").group(1) == \"a\"\n",
        "assert kmatch(\"abc\", \"def\") is None\n",
        "assert kmatch(\"abc/*/ghi\", \"abc/def/ghi\").group(1) == \"def\"\n",
        "assert kmatch(\"abc/**/jkl\", \"abc/def/ghi/jkl\").group(1) == \"def/ghi\"\n",
        "assert kmatch(\"abc/*/jkl\", \"abc/def/ghi/jkl\") is None\n",
        "assert kmatch(\"**/*\", \"abc/def/ghi/jkl\").group(1) == \"abc/def/ghi\"\n",
        "assert kmatch(\"**/*\", \"abc/def/ghi/jkl\").group(2) == \"jkl\"\n"
      ]
    },
    {
      "cell_type": "markdown",
      "metadata": {
        "id": "UspSJSjzYqdl"
      },
      "source": [
        "## MLP model and dataset"
      ]
    },
    {
      "cell_type": "code",
      "execution_count": 4,
      "metadata": {
        "colab": {
          "base_uri": "https://localhost:8080/"
        },
        "id": "8py7J8FF2fTW",
        "outputId": "736e5366-c878-4d13-de15-78315b1ce518"
      },
      "outputs": [
        {
          "name": "stderr",
          "output_type": "stream",
          "text": [
            "WARNING:absl:No GPU/TPU found, falling back to CPU. (Set TF_CPP_MIN_LOG_LEVEL=0 and rerun for more info.)\n",
            "/srv/share/jbjorner3/miniconda3/envs/george-37-v3/lib/python3.7/site-packages/tqdm/auto.py:22: TqdmWarning: IProgress not found. Please update jupyter and ipywidgets. See https://ipywidgets.readthedocs.io/en/stable/user_install.html\n",
            "  from .autonotebook import tqdm as notebook_tqdm\n"
          ]
        }
      ],
      "source": [
        "\n",
        "\"\"\"Train an MLP on MNIST on one random seed. Serialize the model for\n",
        "interpolation downstream.\"\"\"\n",
        "import argparse\n",
        "\n",
        "import augmax\n",
        "import flax\n",
        "import jax\n",
        "import jax.numpy as jnp\n",
        "import numpy as np\n",
        "import optax\n",
        "import tensorflow as tf\n",
        "import tensorflow_datasets as tfds\n",
        "\n",
        "from flax import linen as nn\n",
        "from flax.training.train_state import TrainState\n",
        "from jax import jit, random, tree_map, value_and_grad, vmap\n",
        "from tqdm import tqdm\n",
        "\n",
        "# See https://github.com/tensorflow/tensorflow/issues/53831.\n",
        "\n",
        "# See https://github.com/google/jax/issues/9454.\n",
        "tf.config.set_visible_devices([], \"GPU\")\n",
        "\n",
        "activation = nn.relu\n",
        "\n",
        "class MLPModel(nn.Module):\n",
        "\n",
        "  @nn.compact\n",
        "  def __call__(self, x):\n",
        "    x = jnp.reshape(x, (-1, 28 * 28))\n",
        "    x = nn.Dense(512)(x)\n",
        "    x = activation(x)\n",
        "    x = nn.Dense(512)(x)\n",
        "    x = activation(x)\n",
        "    x = nn.Dense(512)(x)\n",
        "    x = activation(x)\n",
        "    x = nn.Dense(10)(x)\n",
        "    x = nn.log_softmax(x)\n",
        "    return x\n",
        "\n",
        "def make_stuff(model):\n",
        "  normalize_transform = augmax.ByteToFloat()\n",
        "\n",
        "  @jit\n",
        "  def batch_eval(params, images_u8, labels):\n",
        "    images_f32 = vmap(normalize_transform)(None, images_u8)\n",
        "    logits = model.apply({\"params\": params}, images_f32)\n",
        "    y_onehot = jax.nn.one_hot(labels, 10)\n",
        "    loss = jnp.mean(optax.softmax_cross_entropy(logits=logits, labels=y_onehot))\n",
        "    num_correct = jnp.sum(jnp.argmax(logits, axis=-1) == jnp.argmax(y_onehot, axis=-1))\n",
        "    return loss, {\"num_correct\": num_correct}\n",
        "\n",
        "  # Stan's addition for saving predictions of the model to see how they differ\n",
        "  @jit\n",
        "  def batch_predictions(params, images_u8, labels):\n",
        "    images_f32 = vmap(normalize_transform)(None, images_u8)\n",
        "    logits = model.apply({\"params\": params}, images_f32)\n",
        "    y_onehot = jax.nn.one_hot(labels, 10)\n",
        "    loss = jnp.mean(optax.softmax_cross_entropy(logits=logits, labels=y_onehot))\n",
        "    num_correct = jnp.sum(jnp.argmax(logits, axis=-1) == jnp.argmax(y_onehot, axis=-1))\n",
        "    return loss, logits, y_onehot, {\"num_correct\": num_correct}\n",
        "\n",
        "  @jit\n",
        "  def step(train_state, images_f32, labels):\n",
        "    (l, info), g = value_and_grad(batch_eval, has_aux=True)(train_state.params, images_f32, labels)\n",
        "    return train_state.apply_gradients(grads=g), {\"batch_loss\": l, **info}\n",
        "\n",
        "  def dataset_loss_and_accuracy(params, dataset, batch_size: int):\n",
        "    num_examples = dataset[\"images_u8\"].shape[0]\n",
        "    assert num_examples % batch_size == 0\n",
        "    num_batches = num_examples // batch_size\n",
        "    batch_ix = jnp.arange(num_examples).reshape((num_batches, batch_size))\n",
        "    # Can't use vmap or run in a single batch since that overloads GPU memory.\n",
        "    losses, infos = zip(*[\n",
        "        batch_eval(\n",
        "            params,\n",
        "            dataset[\"images_u8\"][batch_ix[i, :], :, :, :],\n",
        "            dataset[\"labels\"][batch_ix[i, :]],\n",
        "        ) for i in range(num_batches)\n",
        "    ])\n",
        "    return (\n",
        "        jnp.sum(batch_size * jnp.array(losses)) / num_examples,\n",
        "        sum(x[\"num_correct\"] for x in infos) / num_examples,\n",
        "    )\n",
        "\n",
        "  # Stan's addition for saving predictions of the model to see how they differ\n",
        "  def dataset_predictions(params, dataset, batch_size: int):\n",
        "    num_examples = dataset[\"images_u8\"].shape[0]\n",
        "    assert num_examples % batch_size == 0\n",
        "    num_batches = num_examples // batch_size\n",
        "    batch_ix = jnp.arange(num_examples).reshape((num_batches, batch_size))\n",
        "    # Can't use vmap or run in a single batch since that overloads GPU memory.\n",
        "    losses, logits, y_onehots, infos = zip(*[\n",
        "        batch_predictions(\n",
        "            params,\n",
        "            dataset[\"images_u8\"][batch_ix[i, :], :, :, :],\n",
        "            dataset[\"labels\"][batch_ix[i, :]],\n",
        "        ) for i in range(num_batches)\n",
        "    ])\n",
        "    return (\n",
        "        jnp.sum(batch_size * jnp.array(losses)) / num_examples,\n",
        "        sum(x[\"num_correct\"] for x in infos) / num_examples,\n",
        "        logits,\n",
        "        y_onehots,\n",
        "    )\n",
        "\n",
        "  return {\n",
        "      \"normalize_transform\": normalize_transform,\n",
        "      \"batch_eval\": batch_eval,\n",
        "      \"step\": step,\n",
        "      \"dataset_loss_and_accuracy\": dataset_loss_and_accuracy,\n",
        "      \"dataset_predictions\": dataset_predictions,\n",
        "  }\n",
        "\n",
        "def load_datasets():\n",
        "  \"\"\"Return the training and test datasets, unbatched.\"\"\"\n",
        "  # See https://www.tensorflow.org/datasets/overview#as_batched_tftensor_batch_size-1.\n",
        "  train_ds_images_u8, train_ds_labels = tfds.as_numpy(\n",
        "      tfds.load(\"mnist\", split=\"train\", batch_size=-1, as_supervised=True))\n",
        "  test_ds_images_u8, test_ds_labels = tfds.as_numpy(\n",
        "      tfds.load(\"mnist\", split=\"test\", batch_size=-1, as_supervised=True))\n",
        "  train_ds = {\"images_u8\": train_ds_images_u8, \"labels\": train_ds_labels}\n",
        "  test_ds = {\"images_u8\": test_ds_images_u8, \"labels\": test_ds_labels}\n",
        "  return train_ds, test_ds\n",
        "\n"
      ]
    },
    {
      "cell_type": "markdown",
      "metadata": {
        "id": "Y7xeM-sdZAp6"
      },
      "source": [
        "## Runs details"
      ]
    },
    {
      "cell_type": "code",
      "execution_count": 5,
      "metadata": {
        "id": "2Uc_f5roM8j1"
      },
      "outputs": [],
      "source": [
        "num_epochs = 100\n",
        "batch_size = 500\n",
        "seed = 12421\n",
        "config_optimizer = \"adam\" #\"adam\"\n",
        "learning_rate = 1e-3\n",
        "\n",
        "runs_to_collect = 2 #Stan's new stuff\n",
        "\n",
        "rng = random.PRNGKey(seed)"
      ]
    },
    {
      "cell_type": "code",
      "execution_count": 6,
      "metadata": {
        "colab": {
          "base_uri": "https://localhost:8080/",
          "height": 386,
          "referenced_widgets": [
            "bc42a5f233814a9484a158d62d20d852",
            "c1d1f10c14904a2cbc020e1613a4f3fa",
            "ad4d3e512f2c473bb1767b4687a972ab",
            "9bb9d0cdd29946efb62db19011fbbec2",
            "dbecc29351ea4d8dac92e6a2f5c45998",
            "40ff82102df64bc7852563e0bbeee314",
            "e222493f34d34ea78e1267cd658199d8",
            "f5d387618fd34921a6b3364307c5efa2",
            "1ed25bd315ec464896e60879a6b85945",
            "4899b2ef4b4d4905b52817025a69d769",
            "14859631937b4249a27e61fe9bb828c0"
          ]
        },
        "id": "zBizSu-K2pjv",
        "outputId": "fcad18a3-ca1d-4503-eb6e-75850ce6e854"
      },
      "outputs": [
        {
          "name": "stdout",
          "output_type": "stream",
          "text": [
            "--------------------------\n",
            "Starting run 0\n",
            "train_ds labels hash 3270112768502088979\n",
            "test_ds labels hash 9004531937019728389\n",
            "num_train_examples 60000\n",
            "num_test_examples 10000\n"
          ]
        },
        {
          "name": "stderr",
          "output_type": "stream",
          "text": [
            "100%|██████████| 100/100 [02:09<00:00,  1.29s/it]\n"
          ]
        },
        {
          "name": "stdout",
          "output_type": "stream",
          "text": [
            "-----------------\n",
            "Run 0 DONE!\n",
            "Run=0 test loss=0.10914751142263412 test accuracy=0.9860000014305115 train loss=1.7416348896404088e-07 train accuracy=1.0\n",
            "--------------------------\n",
            "Starting run 1\n",
            "train_ds labels hash 3270112768502088979\n",
            "test_ds labels hash 9004531937019728389\n",
            "num_train_examples 60000\n",
            "num_test_examples 10000\n"
          ]
        },
        {
          "name": "stderr",
          "output_type": "stream",
          "text": [
            "100%|██████████| 100/100 [01:56<00:00,  1.16s/it]\n"
          ]
        },
        {
          "name": "stdout",
          "output_type": "stream",
          "text": [
            "-----------------\n",
            "Run 1 DONE!\n",
            "Run=1 test loss=0.14679479598999023 test accuracy=0.9854000210762024 train loss=5.942134961856027e-08 train accuracy=1.0\n"
          ]
        }
      ],
      "source": [
        "# storing model params after training\n",
        "flattened_models_list = []\n",
        "\n",
        "for run_i in range(runs_to_collect):\n",
        "\n",
        "  rng = random.PRNGKey(seed+run_i) # chaning the seed each run \n",
        "  rngmix = lambda rng, x: random.fold_in(rng, hash(x))\n",
        "\n",
        "  model = MLPModel()\n",
        "  stuff = make_stuff(model)\n",
        "\n",
        "  print(\"--------------------------\")\n",
        "  print(f\"Starting run {run_i}\")\n",
        "\n",
        "\n",
        "  train_ds, test_ds = load_datasets()\n",
        "  print(\"train_ds labels hash\", hash(np.array(train_ds[\"labels\"]).tobytes()))\n",
        "  print(\"test_ds labels hash\", hash(np.array(test_ds[\"labels\"]).tobytes()))\n",
        "\n",
        "  num_train_examples = train_ds[\"images_u8\"].shape[0]\n",
        "  num_test_examples = test_ds[\"images_u8\"].shape[0]\n",
        "  assert num_train_examples % batch_size == 0\n",
        "  print(\"num_train_examples\", num_train_examples)\n",
        "  print(\"num_test_examples\", num_test_examples)\n",
        "\n",
        "  if config_optimizer == \"sgd\":\n",
        "    # See runs:\n",
        "    # * https://wandb.ai/skainswo/playing-the-lottery/runs/3blb4uhm\n",
        "    # * https://wandb.ai/skainswo/playing-the-lottery/runs/174j7umt\n",
        "    # * https://wandb.ai/skainswo/playing-the-lottery/runs/td02y8gg\n",
        "    lr_schedule = optax.warmup_cosine_decay_schedule(\n",
        "        init_value=1e-6,\n",
        "        peak_value=learning_rate,\n",
        "        warmup_steps=10,\n",
        "        # Confusingly, `decay_steps` is actually the total number of steps,\n",
        "        # including the warmup.\n",
        "        decay_steps=num_epochs * (num_train_examples // batch_size),\n",
        "    )\n",
        "    tx = optax.sgd(lr_schedule, momentum=0.9)\n",
        "  elif config_optimizer == \"adam\":\n",
        "    # See runs:\n",
        "    # - https://wandb.ai/skainswo/playing-the-lottery/runs/1b1gztfx (trim-fire-575)\n",
        "    # - https://wandb.ai/skainswo/playing-the-lottery/runs/1hrmw7wr (wild-dream-576)\n",
        "    tx = optax.adam(learning_rate)\n",
        "  else:\n",
        "    # See runs:\n",
        "    # - https://wandb.ai/skainswo/playing-the-lottery/runs/k4luj7er (faithful-spaceship-579)\n",
        "    # - https://wandb.ai/skainswo/playing-the-lottery/runs/3ru7xy8c (sage-forest-580)\n",
        "    tx = optax.adamw(learning_rate, weight_decay=1e-4)\n",
        "\n",
        "  train_state = TrainState.create(\n",
        "      apply_fn=model.apply,\n",
        "      params=model.init(rngmix(rng, f\"init{run_i}\"), jnp.zeros((1, 28, 28, 1)))[\"params\"],\n",
        "      tx=tx,\n",
        "  )\n",
        "\n",
        "  for epoch in tqdm(range(num_epochs)):\n",
        "    infos = []\n",
        "  \n",
        "    batch_ix = random.permutation(rngmix(rng, f\"epoch-{epoch}\"), num_train_examples).reshape(\n",
        "        (-1, batch_size))\n",
        "    for i in range(batch_ix.shape[0]):\n",
        "      p = batch_ix[i, :]\n",
        "      images_u8 = train_ds[\"images_u8\"][p, :, :, :]\n",
        "      labels = train_ds[\"labels\"][p]\n",
        "      train_state, info = stuff[\"step\"](train_state, images_u8, labels)\n",
        "    \n",
        "\n",
        "    train_loss = sum(batch_size * x[\"batch_loss\"] for x in infos) / num_train_examples\n",
        "    train_accuracy = sum(x[\"num_correct\"] for x in infos) / num_train_examples\n",
        "\n",
        "    \n",
        "    actest_loss, test_accuracy = stuff[\"dataset_loss_and_accuracy\"](train_state.params, test_ds,\n",
        "                                                                    10_000)\n",
        "\n",
        "    params_l2 = tree_map(lambda x: jnp.sqrt(jnp.sum(x**2)),\n",
        "                          flatten_params({\"params_l2\": train_state.params}))\n",
        "    \n",
        "    \n",
        "  # summary\n",
        "  print(\"-----------------\")\n",
        "  print(f\"Run {run_i} DONE!\")\n",
        "  test_loss, test_accuracy = stuff[\"dataset_loss_and_accuracy\"](train_state.params, test_ds,\n",
        "                                                                10_000)\n",
        "  train_loss, train_accuracy = stuff[\"dataset_loss_and_accuracy\"](train_state.params, train_ds,\n",
        "                                                                60_000)\n",
        "  print(f\"Run={run_i} test loss={test_loss} test accuracy={test_accuracy} train loss={train_loss} train accuracy={train_accuracy}\")\n",
        "  # import ipdb\n",
        "  # ipdb.set_trace()\n",
        "  flattened_models_list.append(flatten_params(train_state.params))\n"
      ]
    },
    {
      "cell_type": "code",
      "execution_count": 7,
      "metadata": {
        "id": "vYDeIaVAbDQp"
      },
      "outputs": [],
      "source": [
        "# flattening params\n",
        "assert len(flattened_models_list) >= 2\n",
        "flattened_model1 = flattened_models_list[0]\n",
        "flattened_model2 = flattened_models_list[1]"
      ]
    },
    {
      "cell_type": "markdown",
      "metadata": {
        "id": "kynTrJ-VbNOY"
      },
      "source": [
        "## Permuting the model"
      ]
    },
    {
      "cell_type": "code",
      "execution_count": 83,
      "metadata": {
        "id": "IkP-ryVUBDbC"
      },
      "outputs": [
        {
          "name": "stdout",
          "output_type": "stream",
          "text": [
            "0/P_0: 1932.1788330078125\n",
            "0/P_1: 781.7157592773438\n",
            "0/P_2: 389.3781433105469\n",
            "1/P_0: 232.759521484375\n",
            "1/P_2: 0.0\n",
            "1/P_1: 220.9517822265625\n",
            "2/P_2: 68.49658203125\n",
            "2/P_0: 47.63232421875\n",
            "2/P_1: 72.419921875\n",
            "3/P_0: 19.455078125\n",
            "3/P_1: 9.501708984375\n",
            "3/P_2: 37.5733642578125\n",
            "4/P_0: 5.242919921875\n",
            "4/P_1: 23.6318359375\n",
            "4/P_2: 10.1683349609375\n",
            "5/P_1: 5.77392578125\n",
            "5/P_2: 3.77197265625\n",
            "5/P_0: 8.699462890625\n",
            "6/P_1: 8.562255859375\n",
            "6/P_2: 3.7401123046875\n",
            "6/P_0: 3.161376953125\n",
            "7/P_2: 0.0\n",
            "7/P_1: 5.781982421875\n",
            "7/P_0: 2.092529296875\n",
            "8/P_1: 1.255615234375\n",
            "8/P_0: 0.811767578125\n",
            "8/P_2: 4.1072998046875\n",
            "9/P_0: 0.0\n",
            "9/P_1: 3.83544921875\n",
            "9/P_2: 2.0838623046875\n",
            "10/P_2: 0.0\n",
            "10/P_0: 1.2841796875\n",
            "10/P_1: 2.936767578125\n",
            "11/P_0: 1.02099609375\n",
            "11/P_2: 1.5897216796875\n",
            "11/P_1: 2.359375\n",
            "12/P_0: 0.8427734375\n",
            "12/P_1: 0.488525390625\n",
            "12/P_2: 1.87353515625\n",
            "13/P_2: 0.0\n",
            "13/P_1: 1.207275390625\n",
            "13/P_0: 0.892822265625\n",
            "14/P_0: 0.0\n",
            "14/P_2: 0.8651123046875\n",
            "14/P_1: 1.540283203125\n",
            "15/P_1: 0.0\n",
            "15/P_0: 0.56396484375\n",
            "15/P_2: 0.841552734375\n",
            "16/P_1: 1.3427734375\n",
            "16/P_2: 0.7059326171875\n",
            "16/P_0: 0.479248046875\n",
            "17/P_0: 0.0\n",
            "17/P_2: 0.0\n",
            "17/P_1: 1.08203125\n",
            "18/P_0: 0.341064453125\n",
            "18/P_1: 0.244384765625\n",
            "18/P_2: 0.9180908203125\n",
            "19/P_0: 0.20263671875\n",
            "19/P_1: 0.865966796875\n",
            "19/P_2: 0.555419921875\n",
            "20/P_2: 0.0\n",
            "20/P_1: 0.393798828125\n",
            "20/P_0: 0.487060546875\n",
            "21/P_2: 0.3233642578125\n",
            "21/P_1: 0.748291015625\n",
            "21/P_0: 0.29931640625\n",
            "22/P_2: 0.3939208984375\n",
            "22/P_1: 0.65234375\n",
            "22/P_0: 0.265869140625\n",
            "23/P_1: 0.18798828125\n",
            "23/P_0: 0.109619140625\n",
            "23/P_2: 0.5311279296875\n",
            "24/P_1: 0.536376953125\n",
            "24/P_0: 0.1669921875\n",
            "24/P_2: 0.3211669921875\n",
            "25/P_2: 0.0\n",
            "25/P_1: 0.52490234375\n",
            "25/P_0: 0.189208984375\n",
            "26/P_1: 0.101806640625\n",
            "26/P_0: 0.00634765625\n",
            "26/P_2: 0.4013671875\n",
            "27/P_2: 0.0\n",
            "27/P_1: 0.420166015625\n",
            "27/P_0: 0.096435546875\n",
            "28/P_2: 0.299072265625\n",
            "28/P_0: 0.0\n",
            "28/P_1: 0.364013671875\n",
            "29/P_0: 0.11376953125\n",
            "29/P_1: 0.124755859375\n",
            "29/P_2: 0.2926025390625\n",
            "30/P_1: 0.23828125\n",
            "30/P_2: 0.1766357421875\n",
            "30/P_0: 0.1259765625\n",
            "31/P_1: 0.268310546875\n",
            "31/P_2: 0.1768798828125\n",
            "31/P_0: 0.080322265625\n",
            "32/P_2: 0.0\n",
            "32/P_0: 0.0\n",
            "32/P_1: 0.2890625\n",
            "33/P_0: 0.08203125\n",
            "33/P_1: 0.03759765625\n",
            "33/P_2: 0.23876953125\n",
            "34/P_0: 0.0673828125\n",
            "34/P_1: 0.219970703125\n",
            "34/P_2: 0.1475830078125\n",
            "35/P_2: 0.0\n",
            "35/P_1: 0.109375\n",
            "35/P_0: 0.136962890625\n",
            "36/P_0: 0.0\n",
            "36/P_2: 0.111328125\n",
            "36/P_1: 0.21044921875\n",
            "37/P_1: 0.0\n",
            "37/P_2: 0.1121826171875\n",
            "37/P_0: 0.094970703125\n",
            "38/P_2: 0.0\n",
            "38/P_0: 0.0\n",
            "38/P_1: 0.206787109375\n",
            "39/P_2: 0.1009521484375\n",
            "39/P_1: 0.102294921875\n",
            "39/P_0: 0.154541015625\n",
            "40/P_1: 0.0673828125\n",
            "40/P_0: 0.01806640625\n",
            "40/P_2: 0.1275634765625\n",
            "41/P_1: 0.155029296875\n",
            "41/P_0: 0.0322265625\n",
            "41/P_2: 0.0986328125\n",
            "42/P_1: 0.137451171875\n",
            "42/P_0: 0.09619140625\n",
            "42/P_2: 0.119384765625\n",
            "43/P_0: 0.0\n",
            "43/P_2: 0.0\n",
            "43/P_1: 0.12939453125\n",
            "44/P_1: 0.0\n",
            "44/P_2: 0.097412109375\n",
            "44/P_0: 0.034912109375\n",
            "45/P_0: 0.0\n",
            "45/P_2: 0.0\n",
            "45/P_1: 0.14599609375\n",
            "46/P_1: 0.0\n",
            "46/P_2: 0.072509765625\n",
            "46/P_0: -0.0087890625\n",
            "47/P_2: 0.0\n",
            "47/P_0: 0.0\n",
            "47/P_1: 0.1484375\n",
            "48/P_2: 0.102783203125\n",
            "48/P_1: 0.078857421875\n",
            "48/P_0: 0.027099609375\n",
            "49/P_2: 0.030029296875\n",
            "49/P_0: 0.0\n",
            "49/P_1: 0.090576171875\n",
            "50/P_0: 0.087890625\n",
            "50/P_2: 0.062255859375\n",
            "50/P_1: 0.054931640625\n",
            "51/P_1: 0.0\n",
            "51/P_2: 0.062255859375\n",
            "51/P_0: 0.006103515625\n",
            "52/P_0: 0.0\n",
            "52/P_2: 0.0\n",
            "52/P_1: 0.094482421875\n",
            "53/P_2: 0.0660400390625\n",
            "53/P_0: 0.0498046875\n",
            "53/P_1: 0.0947265625\n",
            "54/P_2: 0.0634765625\n",
            "54/P_0: 0.071044921875\n",
            "54/P_1: 0.08935546875\n",
            "55/P_1: 0.0\n",
            "55/P_2: 0.0780029296875\n",
            "55/P_0: -0.0068359375\n",
            "56/P_2: 0.0\n",
            "56/P_0: 0.0\n",
            "56/P_1: 0.096923828125\n",
            "57/P_1: 0.0\n",
            "57/P_2: 0.05078125\n",
            "57/P_0: -0.001220703125\n",
            "58/P_0: 0.0\n",
            "58/P_1: 0.10009765625\n",
            "58/P_2: 0.0540771484375\n",
            "59/P_0: 0.02392578125\n",
            "59/P_2: 0.0\n",
            "59/P_1: 0.04833984375\n",
            "60/P_1: 0.0\n",
            "60/P_0: 0.0517578125\n",
            "60/P_2: 0.0477294921875\n",
            "61/P_0: 0.0\n",
            "61/P_2: 0.0\n",
            "61/P_1: 0.05615234375\n",
            "62/P_0: -0.00341796875\n",
            "62/P_1: 0.0166015625\n",
            "62/P_2: 0.08349609375\n",
            "63/P_1: 0.01171875\n",
            "63/P_0: 0.009033203125\n",
            "63/P_2: 0.0177001953125\n",
            "64/P_2: 0.0\n",
            "64/P_1: 0.0517578125\n",
            "64/P_0: 0.031982421875\n",
            "65/P_2: 0.014404296875\n",
            "65/P_1: 0.111572265625\n",
            "65/P_0: 0.0048828125\n",
            "66/P_0: 0.0\n",
            "66/P_2: 0.03515625\n",
            "66/P_1: 0.074951171875\n",
            "67/P_0: 0.045654296875\n",
            "67/P_1: 0.002197265625\n",
            "67/P_2: 0.0496826171875\n",
            "68/P_1: 0.029296875\n",
            "68/P_2: 0.0301513671875\n",
            "68/P_0: 0.034423828125\n",
            "69/P_2: 0.0\n",
            "69/P_0: 0.0\n",
            "69/P_1: 0.034912109375\n",
            "70/P_0: -0.033935546875\n",
            "70/P_2: 0.029541015625\n",
            "70/P_1: 0.10009765625\n",
            "71/P_1: 0.0\n",
            "71/P_0: 0.026123046875\n",
            "71/P_2: 0.0484619140625\n",
            "72/P_0: 0.0\n",
            "72/P_1: 0.067138671875\n",
            "72/P_2: 0.03271484375\n",
            "73/P_1: 0.027587890625\n",
            "73/P_2: 0.007080078125\n",
            "73/P_0: 0.08740234375\n",
            "74/P_1: 0.042724609375\n",
            "74/P_0: 0.0419921875\n",
            "74/P_2: 0.00732421875\n",
            "75/P_0: 0.0\n",
            "75/P_2: 0.0\n",
            "75/P_1: -0.000244140625\n"
          ]
        }
      ],
      "source": [
        "permutation_spec = mlp_permutation_spec(3)\n",
        "final_permutation = weight_matching(random.PRNGKey(seed), permutation_spec,\n",
        "                                    flattened_model1, flattened_model2)"
      ]
    },
    {
      "cell_type": "code",
      "execution_count": 84,
      "metadata": {
        "id": "_jMuWKFBBGy1"
      },
      "outputs": [],
      "source": [
        "# applying the permutation to the second model\n",
        "flattened_model1_permuted = unflatten_params(\n",
        "        apply_permutation(permutation_spec, final_permutation, flattened_model1)\n",
        "        )\n",
        "flattened_model2_permuted = unflatten_params(\n",
        "        apply_permutation(permutation_spec, final_permutation, flattened_model2)\n",
        "        )"
      ]
    },
    {
      "cell_type": "markdown",
      "metadata": {
        "id": "OJCgHKhCbnlO"
      },
      "source": [
        "## Performance verification"
      ]
    },
    {
      "cell_type": "markdown",
      "metadata": {
        "id": "4ayKKHGlbrMN"
      },
      "source": [
        "### Model 1"
      ]
    },
    {
      "cell_type": "code",
      "execution_count": 85,
      "metadata": {
        "id": "1LWHcfq5DVnC"
      },
      "outputs": [
        {
          "name": "stdout",
          "output_type": "stream",
          "text": [
            "Model 1\n",
            "train_loss=1.7416348896404088e-07 train_accuracy=1.0\n",
            "test_loss=0.10914751142263412 test_accuracy=0.9860000014305115\n"
          ]
        }
      ],
      "source": [
        "test_loss, test_accuracy = stuff[\"dataset_loss_and_accuracy\"](unflatten_params(flattened_model1), test_ds,\n",
        "                                                                  10_000)\n",
        "train_loss, train_accuracy = stuff[\"dataset_loss_and_accuracy\"](unflatten_params(flattened_model1), train_ds,\n",
        "                                                                  60_000)\n",
        "print(\"Model 1\")\n",
        "print(f\"train_loss={train_loss} train_accuracy={train_accuracy}\")\n",
        "print(f\"test_loss={test_loss} test_accuracy={test_accuracy}\")"
      ]
    },
    {
      "cell_type": "markdown",
      "metadata": {
        "id": "eRaQ3-Zdb-k1"
      },
      "source": [
        "### Model 2"
      ]
    },
    {
      "cell_type": "code",
      "execution_count": 86,
      "metadata": {
        "id": "hvHBV5MhBt7z"
      },
      "outputs": [
        {
          "name": "stdout",
          "output_type": "stream",
          "text": [
            "Model 2\n",
            "train_loss=5.942134961856027e-08 train_accuracy=1.0\n",
            "test_loss=0.14679479598999023 test_accuracy=0.9854000210762024\n"
          ]
        }
      ],
      "source": [
        "test_loss, test_accuracy = stuff[\"dataset_loss_and_accuracy\"](unflatten_params(flattened_model2), test_ds,\n",
        "                                                                  10_000)\n",
        "train_loss, train_accuracy = stuff[\"dataset_loss_and_accuracy\"](unflatten_params(flattened_model2), train_ds,\n",
        "                                                                  60_000)\n",
        "print(\"Model 2\")\n",
        "print(f\"train_loss={train_loss} train_accuracy={train_accuracy}\")\n",
        "print(f\"test_loss={test_loss} test_accuracy={test_accuracy}\")"
      ]
    },
    {
      "cell_type": "markdown",
      "metadata": {
        "id": "xigRsStYeAsN"
      },
      "source": [
        "### Model 1 with permutation"
      ]
    },
    {
      "cell_type": "code",
      "execution_count": 87,
      "metadata": {
        "id": "EB2laCOweDvX"
      },
      "outputs": [
        {
          "name": "stdout",
          "output_type": "stream",
          "text": [
            "Model 1 with permutation\n",
            "train_loss=6.985023021697998 train_accuracy=0.38878333568573\n",
            "test_loss=7.063643932342529 test_accuracy=0.3926999866962433\n"
          ]
        }
      ],
      "source": [
        "test_loss, test_accuracy = stuff[\"dataset_loss_and_accuracy\"](unflatten_params(flattened_model1_permuted), test_ds,\n",
        "                                                                  10_000)\n",
        "train_loss, train_accuracy = stuff[\"dataset_loss_and_accuracy\"](unflatten_params(flattened_model1_permuted), train_ds,\n",
        "                                                                  60_000)\n",
        "print(\"Model 1 with permutation\")\n",
        "print(f\"train_loss={train_loss} train_accuracy={train_accuracy}\")\n",
        "print(f\"test_loss={test_loss} test_accuracy={test_accuracy}\")"
      ]
    },
    {
      "cell_type": "markdown",
      "metadata": {
        "id": "RRcbDw4ocCsw"
      },
      "source": [
        "### Model 2 with permutation"
      ]
    },
    {
      "cell_type": "code",
      "execution_count": 88,
      "metadata": {
        "id": "O7Qny9mvDW_D"
      },
      "outputs": [
        {
          "name": "stdout",
          "output_type": "stream",
          "text": [
            "Model 2 with permutation\n",
            "train_loss=0.029677079990506172 train_accuracy=0.9932000041007996\n",
            "test_loss=0.15738548338413239 test_accuracy=0.9775999784469604\n"
          ]
        }
      ],
      "source": [
        "test_loss, test_accuracy = stuff[\"dataset_loss_and_accuracy\"](unflatten_params(flattened_model2_permuted), test_ds,\n",
        "                                                                  10_000)\n",
        "train_loss, train_accuracy = stuff[\"dataset_loss_and_accuracy\"](unflatten_params(flattened_model2_permuted), train_ds,\n",
        "                                                                  60_000)\n",
        "print(\"Model 2 with permutation\")\n",
        "print(f\"train_loss={train_loss} train_accuracy={train_accuracy}\")\n",
        "print(f\"test_loss={test_loss} test_accuracy={test_accuracy}\")"
      ]
    },
    {
      "cell_type": "markdown",
      "metadata": {
        "id": "DEnczZuEeKbv"
      },
      "source": [
        "## Weight vector analysis"
      ]
    },
    {
      "cell_type": "code",
      "execution_count": 89,
      "metadata": {
        "id": "VMbbA5UPEXfk"
      },
      "outputs": [],
      "source": [
        "flattened_model1_permuted_flat = flatten_params(flattened_model1_permuted)\n",
        "flattened_model2_permuted_flat = flatten_params(flattened_model2_permuted)"
      ]
    },
    {
      "cell_type": "code",
      "execution_count": 90,
      "metadata": {},
      "outputs": [
        {
          "name": "stdout",
          "output_type": "stream",
          "text": [
            "(784, 512)\n",
            "42.384575\n",
            "47.042442\n",
            "42.00812\n",
            "0.7646698\n",
            "0.022323824\n",
            "0.025271699\n"
          ]
        }
      ],
      "source": [
        "# jakob analysis, would have expected the norms to point in the same direciton because they are in similar basins of loss. and they do! \n",
        "print(flattened_model2_permuted_flat[\"Dense_0/kernel\"].shape)\n",
        "normalized_model1 = flattened_model1[\"Dense_0/kernel\"] / jnp.linalg.norm(flattened_model1[\"Dense_0/kernel\"])\n",
        "print(jnp.linalg.norm(flattened_model1[\"Dense_0/kernel\"]))\n",
        "normalized_model2 = flattened_model2_permuted_flat[\"Dense_0/kernel\"] / jnp.linalg.norm(flattened_model2_permuted_flat[\"Dense_0/kernel\"])\n",
        "print(jnp.linalg.norm(flattened_model2_permuted_flat[\"Dense_0/kernel\"]))\n",
        "print(jnp.linalg.norm((flattened_model1[\"Dense_0/kernel\"] + flattened_model2_permuted_flat[\"Dense_0/kernel\"])/2))\n",
        "print(normalized_model1.reshape(-1).T @ normalized_model2.reshape(-1))\n",
        "normalized_model2 = flattened_model2[\"Dense_0/kernel\"] / jnp.linalg.norm(flattened_model1[\"Dense_0/kernel\"])\n",
        "print(normalized_model1.reshape(-1).T @ normalized_model2.reshape(-1))\n",
        "normalized_model1 = flattened_model1_permuted_flat[\"Dense_0/kernel\"] / jnp.linalg.norm(flattened_model1_permuted_flat[\"Dense_0/kernel\"])\n",
        "print(normalized_model1.reshape(-1).T @ normalized_model2.reshape(-1))"
      ]
    },
    {
      "cell_type": "code",
      "execution_count": 64,
      "metadata": {
        "id": "KWnv1-pfCM-w"
      },
      "outputs": [],
      "source": [
        "# all in long vectors\n",
        "keys = flattened_model1.keys()\n",
        "\n",
        "v1 = jnp.concatenate([flattened_model1[key].reshape([-1]) for key in keys],axis=0)\n",
        "v2 = jnp.concatenate([flattened_model2[key].reshape([-1]) for key in keys],axis=0)\n",
        "v1_perm = jnp.concatenate([flattened_model1_permuted_flat[key].reshape([-1]) for key in keys],axis=0)\n",
        "v2_perm = jnp.concatenate([flattened_model2_permuted_flat[key].reshape([-1]) for key in keys],axis=0)"
      ]
    },
    {
      "cell_type": "code",
      "execution_count": 65,
      "metadata": {},
      "outputs": [
        {
          "data": {
            "text/plain": [
              "[(512,), (784, 512), (512,), (512, 512), (512,), (512, 512), (10,), (512, 10)]"
            ]
          },
          "execution_count": 65,
          "metadata": {},
          "output_type": "execute_result"
        }
      ],
      "source": [
        "[flattened_model1_permuted_flat[key].shape for key in keys]"
      ]
    },
    {
      "cell_type": "code",
      "execution_count": 66,
      "metadata": {
        "id": "p9dd2lPbEMRA"
      },
      "outputs": [
        {
          "name": "stdout",
          "output_type": "stream",
          "text": [
            "model 1 length**2=4218.314453125\n",
            "model 2 length**2=5154.57470703125\n",
            "model 1 + perms length**2=4218.31494140625\n",
            "model 2 + perms length**2=5154.57470703125\n"
          ]
        }
      ],
      "source": [
        "vectors_to_show = [\n",
        "    (\"model 1\", v1),\n",
        "    (\"model 2\", v2),\n",
        "    (\"model 1 + perms\", v1_perm),\n",
        "    (\"model 2 + perms\", v2_perm), \n",
        "]\n",
        "\n",
        "for vector_str, vector in vectors_to_show:\n",
        "  print(f\"{vector_str} length**2={(jnp.sum(vector**2))}\")\n",
        "\n",
        "# the permutation should preserve the length"
      ]
    },
    {
      "cell_type": "code",
      "execution_count": 67,
      "metadata": {
        "id": "P4m3dP6-EkbX"
      },
      "outputs": [
        {
          "name": "stdout",
          "output_type": "stream",
          "text": [
            "cos(model 1,model 1)=0.9999998807907104\n",
            "cos(model 1,model 2)=0.012056633830070496\n",
            "cos(model 1,model 1 + perms)=0.01057935319840908\n",
            "cos(model 1,model 2 + perms)=0.8583657741546631\n",
            "cos(model 2,model 1)=0.012056633830070496\n",
            "cos(model 2,model 2)=1.0000001192092896\n",
            "cos(model 2,model 1 + perms)=0.013067628256976604\n",
            "cos(model 2,model 2 + perms)=0.015281478874385357\n",
            "cos(model 1 + perms,model 1)=0.01057935319840908\n",
            "cos(model 1 + perms,model 2)=0.013067628256976604\n",
            "cos(model 1 + perms,model 1 + perms)=1.0\n",
            "cos(model 1 + perms,model 2 + perms)=0.012056643143296242\n",
            "cos(model 2 + perms,model 1)=0.8583657145500183\n",
            "cos(model 2 + perms,model 2)=0.015281478874385357\n",
            "cos(model 2 + perms,model 1 + perms)=0.012056642211973667\n",
            "cos(model 2 + perms,model 2 + perms)=1.0000001192092896\n"
          ]
        }
      ],
      "source": [
        "coses_grid = np.zeros((len(vectors_to_show),len(vectors_to_show)))\n",
        "for i,(vector_str1, vector1) in enumerate(vectors_to_show):\n",
        "  for j,(vector_str2, vector2) in enumerate(vectors_to_show):\n",
        "    cos_now = jnp.sum(vector1*vector2)/jnp.sqrt(jnp.sum(vector1**2))/jnp.sqrt(jnp.sum(vector2**2))\n",
        "    print(f\"cos({vector_str1},{vector_str2})={cos_now}\")\n",
        "    coses_grid[i,j] = cos_now"
      ]
    },
    {
      "cell_type": "code",
      "execution_count": 68,
      "metadata": {
        "id": "MlyGW2Mgf8J6"
      },
      "outputs": [
        {
          "data": {
            "image/png": "[encoded data removed]",
            "text/plain": [
              "<Figure size 375x300 with 2 Axes>"
            ]
          },
          "metadata": {},
          "output_type": "display_data"
        }
      ],
      "source": [
        "import matplotlib.pyplot as plt\n",
        "\n",
        "fig = plt.figure(figsize = (5,4),dpi=75)\n",
        "plt.title(\"Log of cos between weights\\nRed=parallel, blue=ortho\",fontsize=14)\n",
        "fig.patch.set_facecolor('white')\n",
        "plt.imshow(np.log(np.abs(coses_grid)),cmap=plt.cm.bwr,origin=\"lower\")\n",
        "plt.xticks(range(len(vectors_to_show)), [x[0] for x in vectors_to_show],rotation = 90,fontsize=14)\n",
        "plt.yticks(range(len(vectors_to_show)), [x[0] for x in vectors_to_show],fontsize=14)\n",
        "plt.colorbar()\n",
        "plt.show()\n"
      ]
    },
    {
      "cell_type": "markdown",
      "metadata": {
        "id": "rQnvPmWlhbgy"
      },
      "source": [
        "## Linear interpolations of weights = test for linear mode connectivity"
      ]
    },
    {
      "cell_type": "code",
      "execution_count": 69,
      "metadata": {
        "id": "O4WSdg2uEvEO"
      },
      "outputs": [],
      "source": [
        "def get_linear_combination(factor1,vector1,factor2,vector2):\n",
        "  return dict(\n",
        "      [(key,factor1*vector1[key]+factor2*vector2[key]) for key in vector1.keys()]\n",
        "  )"
      ]
    },
    {
      "cell_type": "markdown",
      "metadata": {
        "id": "AhKPabjyyLcN"
      },
      "source": [
        "### Model 1 -> Model 2"
      ]
    },
    {
      "cell_type": "code",
      "execution_count": 70,
      "metadata": {
        "id": "OrlGik4SFbQZ"
      },
      "outputs": [
        {
          "name": "stdout",
          "output_type": "stream",
          "text": [
            "0 0.0 0.10914751\n",
            "1 0.1111111111111111 0.0672648\n",
            "2 0.2222222222222222 0.06832512\n",
            "3 0.3333333333333333 0.32708666\n",
            "4 0.4444444444444444 0.83279735\n",
            "5 0.5555555555555556 0.47347745\n",
            "6 0.6666666666666666 0.10011725\n",
            "7 0.7777777777777777 0.06255433\n",
            "8 0.8888888888888888 0.08903016\n",
            "9 1.0 0.1467948\n"
          ]
        },
        {
          "data": {
            "image/png": "[encoded data removed]",
            "text/plain": [
              "<Figure size 450x375 with 1 Axes>"
            ]
          },
          "metadata": {},
          "output_type": "display_data"
        }
      ],
      "source": [
        "ts = np.linspace(0.0,1.0,10)\n",
        "\n",
        "start_vector = flattened_model1\n",
        "stop_vector = flattened_model2\n",
        "name = \"Model 1 -> Model 2\"\n",
        "\n",
        "test_losses_list = []\n",
        "test_accs_list = []\n",
        "train_losses_list = []\n",
        "train_accs_list = []\n",
        "\n",
        "for i,t in enumerate(ts):\n",
        "  new_params = get_linear_combination(\n",
        "      (1.0-t), start_vector, t, stop_vector\n",
        "  )\n",
        "  test_loss, test_accuracy = stuff[\"dataset_loss_and_accuracy\"](unflatten_params(new_params), test_ds,\n",
        "                                                                  10_000)\n",
        "  test_losses_list.append(test_loss)\n",
        "  test_accs_list.append(test_accuracy)\n",
        "\n",
        "  train_loss, train_accuracy = stuff[\"dataset_loss_and_accuracy\"](unflatten_params(new_params), train_ds,\n",
        "                                                                  60_000)\n",
        "  train_losses_list.append(train_loss)\n",
        "  train_accs_list.append(train_accuracy)\n",
        "\n",
        "  print(i,t,test_loss)\n",
        "\n",
        "plt.figure(figsize=(6,5),dpi=75)\n",
        "plt.gca().patch.set_facecolor('white')\n",
        "plt.title(f\"Linear weight interpolation\\n{name}\",fontsize=16)\n",
        "plt.plot(ts,train_losses_list,label=\"train\",marker=\"o\",color=\"crimson\",linewidth=2)\n",
        "plt.plot(ts,test_losses_list,label=\"test\",marker=\"o\",color=\"navy\",linewidth=2)\n",
        "plt.xlabel(\"Interpolation coeff\",fontsize=16)\n",
        "plt.ylabel(\"Loss\",fontsize=16)\n",
        "plt.xticks(fontsize=16)\n",
        "plt.yticks(fontsize=16)\n",
        "plt.legend(fontsize=16)\n",
        "plt.show()"
      ]
    },
    {
      "cell_type": "markdown",
      "metadata": {
        "id": "n3BA6E5PzkeK"
      },
      "source": [
        "### Model 1 -> Model 2 + permutations"
      ]
    },
    {
      "cell_type": "code",
      "execution_count": 71,
      "metadata": {
        "id": "fHqdEwS2zkeK"
      },
      "outputs": [
        {
          "name": "stdout",
          "output_type": "stream",
          "text": [
            "0 0.0 0.10914751\n",
            "1 0.1111111111111111 0.10668603\n",
            "2 0.2222222222222222 0.106139615\n",
            "3 0.3333333333333333 0.10765047\n",
            "4 0.4444444444444444 0.11041581\n",
            "5 0.5555555555555556 0.114427\n",
            "6 0.6666666666666666 0.12033363\n",
            "7 0.7777777777777777 0.1287573\n",
            "8 0.8888888888888888 0.14066304\n",
            "9 1.0 0.15738547\n"
          ]
        },
        {
          "data": {
            "image/png": "[encoded data removed]",
            "text/plain": [
              "<Figure size 450x375 with 1 Axes>"
            ]
          },
          "metadata": {},
          "output_type": "display_data"
        }
      ],
      "source": [
        "ts = np.linspace(0.0,1.0,10)\n",
        "\n",
        "start_vector = flattened_model1\n",
        "stop_vector = flattened_model2_permuted_flat\n",
        "name = \"Model 1 -> (Model 2 + permutations)\"\n",
        "\n",
        "test_losses_list = []\n",
        "test_accs_list = []\n",
        "train_losses_list = []\n",
        "train_accs_list = []\n",
        "\n",
        "for i,t in enumerate(ts):\n",
        "  new_params = get_linear_combination(\n",
        "      (1.0-t), start_vector, t, stop_vector\n",
        "  )\n",
        "  test_loss, test_accuracy = stuff[\"dataset_loss_and_accuracy\"](unflatten_params(new_params), test_ds,\n",
        "                                                                  10_000)\n",
        "  test_losses_list.append(test_loss)\n",
        "  test_accs_list.append(test_accuracy)\n",
        "\n",
        "  train_loss, train_accuracy = stuff[\"dataset_loss_and_accuracy\"](unflatten_params(new_params), train_ds,\n",
        "                                                                  60_000)\n",
        "  train_losses_list.append(train_loss)\n",
        "  train_accs_list.append(train_accuracy)\n",
        "\n",
        "  print(i,t,test_loss)\n",
        "\n",
        "fig = plt.figure(figsize=(6,5),dpi=75)\n",
        "fig.patch.set_facecolor('white')\n",
        "plt.title(f\"Linear weight interpolation\\n{name}\",fontsize=16)\n",
        "plt.plot(ts,train_losses_list,label=\"train\",marker=\"o\",color=\"crimson\",linewidth=2)\n",
        "plt.plot(ts,test_losses_list,label=\"test\",marker=\"o\",color=\"navy\",linewidth=2)\n",
        "plt.xlabel(\"Interpolation coeff\",fontsize=16)\n",
        "plt.ylabel(\"Loss\",fontsize=16)\n",
        "plt.xticks(fontsize=16)\n",
        "plt.yticks(fontsize=16)\n",
        "plt.legend(fontsize=16)\n",
        "plt.show()"
      ]
    },
    {
      "cell_type": "markdown",
      "metadata": {
        "id": "9O0zfLfg0GHt"
      },
      "source": [
        "## Predictions"
      ]
    },
    {
      "cell_type": "code",
      "execution_count": 72,
      "metadata": {
        "id": "DBQgrut1LWt8"
      },
      "outputs": [],
      "source": [
        "def compare_predictions(\n",
        "    model1,\n",
        "    model2,\n",
        "):\n",
        "\n",
        "  _, _, logits1, _ = stuff[\"dataset_predictions\"](model1, test_ds,\n",
        "                                                                    10_000)\n",
        "  _, _, logits2, _ = stuff[\"dataset_predictions\"](model2, test_ds,\n",
        "                                                                    10_000)\n",
        "  \n",
        "  return jnp.sum(jnp.argmax(logits1[0],axis=-1) != jnp.argmax(logits2[0],axis=-1))\n",
        "  \n"
      ]
    },
    {
      "cell_type": "code",
      "execution_count": 73,
      "metadata": {
        "id": "SJ4mrJFwNlY4"
      },
      "outputs": [
        {
          "name": "stdout",
          "output_type": "stream",
          "text": [
            "Disagreemnt model 1 vs model 1=0\n",
            "Disagreemnt model 1 vs model 2=104\n",
            "Disagreemnt model 1 vs model 1 + perms=6054\n",
            "Disagreemnt model 1 vs model 2 + perms=173\n",
            "Disagreemnt model 2 vs model 1=104\n",
            "Disagreemnt model 2 vs model 2=0\n",
            "Disagreemnt model 2 vs model 1 + perms=6056\n",
            "Disagreemnt model 2 vs model 2 + perms=210\n",
            "Disagreemnt model 1 + perms vs model 1=6054\n",
            "Disagreemnt model 1 + perms vs model 2=6056\n",
            "Disagreemnt model 1 + perms vs model 1 + perms=0\n",
            "Disagreemnt model 1 + perms vs model 2 + perms=6032\n",
            "Disagreemnt model 2 + perms vs model 1=173\n",
            "Disagreemnt model 2 + perms vs model 2=210\n",
            "Disagreemnt model 2 + perms vs model 1 + perms=6032\n",
            "Disagreemnt model 2 + perms vs model 2 + perms=0\n"
          ]
        }
      ],
      "source": [
        "models_to_show = [\n",
        "    (\"model 1\", flattened_model1),\n",
        "    (\"model 2\", flattened_model2),\n",
        "    (\"model 1 + perms\", flattened_model1_permuted_flat),\n",
        "    (\"model 2 + perms\", flattened_model2_permuted_flat), \n",
        "]\n",
        "\n",
        "disagreement_grid = np.zeros((len(models_to_show),len(models_to_show)))\n",
        "for i,(vector_str1, vector1) in enumerate(models_to_show):\n",
        "  for j,(vector_str2, vector2) in enumerate(models_to_show):\n",
        "    disagreement_now = compare_predictions(\n",
        "        unflatten_params(vector1),\n",
        "        unflatten_params(vector2)\n",
        "        )\n",
        "    print(f\"Disagreemnt {vector_str1} vs {vector_str2}={disagreement_now}\")\n",
        "    disagreement_grid[i,j] = disagreement_now"
      ]
    },
    {
      "cell_type": "markdown",
      "metadata": {
        "id": "dL5jUqFX09Ws"
      },
      "source": [
        "## Loss landscape cuts"
      ]
    },
    {
      "cell_type": "code",
      "execution_count": 74,
      "metadata": {
        "id": "0ZLoWis0YFVN"
      },
      "outputs": [],
      "source": [
        "# reconstructing parameter dictionaries from flat vectors\n",
        "def reconstruct(vector, example_flat_model, keys):\n",
        "  i = 0\n",
        "  output = dict()\n",
        "  for key in keys:\n",
        "    shape_now = example_flat_model[key].shape\n",
        "    size_now = np.prod(shape_now)\n",
        "    data_now = vector[i:i+size_now].reshape(shape_now)\n",
        "    output[key] = data_now\n",
        "    i = i + size_now\n",
        "  return output\n",
        "\n"
      ]
    },
    {
      "cell_type": "code",
      "execution_count": 75,
      "metadata": {
        "id": "UHcrTpX_YfWC"
      },
      "outputs": [
        {
          "name": "stdout",
          "output_type": "stream",
          "text": [
            "0.0\n",
            "0.0\n",
            "0.0\n",
            "0.0\n",
            "0.0\n",
            "0.0\n",
            "0.0\n",
            "0.0\n"
          ]
        }
      ],
      "source": [
        "# testing it, should get all 0.0\n",
        "rec = reconstruct(v1, flattened_model1, flattened_model1.keys())\n",
        "for key in rec.keys():\n",
        "  print(jnp.max(jnp.abs(flattened_model1[key] - rec[key])))\n",
        "  assert jnp.max(jnp.abs(flattened_model1[key] - rec[key])) == 0.0"
      ]
    },
    {
      "cell_type": "markdown",
      "metadata": {
        "id": "JDEctgeR1KBT"
      },
      "source": [
        "### Cut model1 - model2 - (model2+perm)"
      ]
    },
    {
      "cell_type": "code",
      "execution_count": 76,
      "metadata": {
        "id": "nG_tQWNxPbHS"
      },
      "outputs": [
        {
          "name": "stdout",
          "output_type": "stream",
          "text": [
            "0/21\n",
            "1/21\n",
            "2/21\n",
            "3/21\n",
            "4/21\n",
            "5/21\n",
            "6/21\n",
            "7/21\n",
            "8/21\n",
            "9/21\n",
            "10/21\n",
            "11/21\n",
            "12/21\n",
            "13/21\n",
            "14/21\n",
            "15/21\n",
            "16/21\n",
            "17/21\n",
            "18/21\n",
            "19/21\n",
            "20/21\n"
          ]
        }
      ],
      "source": [
        "model1 = flattened_model1\n",
        "model2 = flattened_model2\n",
        "model3 = flattened_model2_permuted_flat\n",
        "cut_str = \"Model 1 - Model 2 - (Model 2 + permutations)\"\n",
        "\n",
        "keys = model1.keys()\n",
        "\n",
        "v1 = jnp.concatenate([model1[key].reshape([-1]) for key in keys],axis=0)\n",
        "v2 = jnp.concatenate([model2[key].reshape([-1]) for key in keys],axis=0)\n",
        "v3 = jnp.concatenate([model3[key].reshape([-1]) for key in keys],axis=0)\n",
        "\n",
        "basis1 = v2-v1\n",
        "basis1_normed = basis1 / jnp.sqrt(jnp.sum(basis1**2.0))\n",
        "basis2 = v3 - v1\n",
        "basis2 = basis2 - jnp.sum(basis2*basis1_normed)*basis1_normed #orthogonalization\n",
        "basis2_normed = basis2 / jnp.sqrt(jnp.sum(basis2**2.0))\n",
        "\n",
        "scale = jnp.sqrt(jnp.sum(basis1**2))\n",
        "\n",
        "t1s = np.linspace(-0.5,1.5,21)\n",
        "t2s = np.linspace(-0.5,1.5,20)\n",
        "\n",
        "acc_grid = np.zeros((len(t1s),len(t2s)))\n",
        "loss_grid = np.zeros((len(t1s),len(t2s)))\n",
        "logits_grid = np.zeros((len(t1s),len(t2s), 10000, 10))\n",
        "\n",
        "for i1,t1 in enumerate(t1s):\n",
        "  print(f\"{i1}/{len(t1s)}\")\n",
        "  for i2,t2 in enumerate(t2s):\n",
        "\n",
        "    new_flat_v = v1 + basis1_normed*t1*scale + basis2_normed*t2*scale\n",
        "    reconstructed_flat = reconstruct(new_flat_v, model1, keys)\n",
        "    actest_loss, test_accuracy, logits, onehots = stuff[\"dataset_predictions\"](unflatten_params(reconstructed_flat), test_ds,\n",
        "                                                                  10_000)\n",
        "    logits_grid[i1,i2] = np.array(logits[0])\n",
        "    \n",
        "    acc_grid[i1,i2] = test_accuracy\n",
        "    loss_grid[i1,i2] = actest_loss\n",
        "  \n",
        "def projection(vector):\n",
        "  x = jnp.sum((vector - v1)*basis1_normed)/scale\n",
        "  y = jnp.sum((vector - v1)*basis2_normed)/scale\n",
        "  return x,y\n",
        "\n"
      ]
    },
    {
      "cell_type": "code",
      "execution_count": 77,
      "metadata": {
        "id": "Xj99g13mNpcO"
      },
      "outputs": [
        {
          "data": {
            "image/png": "[encoded data removed]",
            "text/plain": [
              "<Figure size 600x500 with 2 Axes>"
            ]
          },
          "metadata": {},
          "output_type": "display_data"
        }
      ],
      "source": [
        "import matplotlib.pyplot as plt\n",
        "\n",
        "fig = plt.figure(figsize = (6,5),dpi=100)\n",
        "fig.patch.set_facecolor('white')\n",
        "plt.title(f\"Test loss weight space cut\\n{cut_str}\")\n",
        "\n",
        "plt.contourf(t1s,t2s,loss_grid.T,cmap=plt.cm.Greens_r,vmax=2.2,levels=400)\n",
        "plt.colorbar()\n",
        "\n",
        "x1,y1 = projection(v1)\n",
        "plt.scatter([x1],[y1],marker=\"o\",color=\"red\",label=\"model 1\",s=150)\n",
        "\n",
        "x2,y2 = projection(v2)\n",
        "plt.scatter([x2],[y2],marker=\"s\",color=\"blue\",label=\"model 2\",s=150)\n",
        "\n",
        "x2p,y2p = projection(v3)\n",
        "plt.scatter([x2p],[y2p],marker=\"^\",color=\"aqua\",label=\"model 2\\npermuted\",s=150)\n",
        "\n",
        "\n",
        "plt.plot([x1,x2p],[y1,y2p],linewidth=2,linestyle=\"--\",color=\"fuchsia\",label=\"Not connected?!?\")\n",
        "\n",
        "plt.xlabel(\"Weight direction 1\",fontsize = 16)\n",
        "plt.ylabel(\"Weight direction 2\",fontsize = 16)\n",
        "\n",
        "\n",
        "plt.legend(fontsize=10,ncol=1)\n",
        "\n",
        "plt.show()"
      ]
    },
    {
      "cell_type": "markdown",
      "metadata": {
        "id": "fEsbxWxbLcgH"
      },
      "source": [
        "## Combined plot"
      ]
    },
    {
      "cell_type": "code",
      "execution_count": 78,
      "metadata": {
        "id": "i85JbMXcMbHO"
      },
      "outputs": [],
      "source": [
        "def get_linear_cut(start_vector, stop_vector, steps=10):\n",
        "\n",
        "  ts = np.linspace(0.0,1.0,steps)\n",
        "\n",
        "  test_losses_list = []\n",
        "  test_accs_list = []\n",
        "  train_losses_list = []\n",
        "  train_accs_list = []\n",
        "\n",
        "  for i,t in enumerate(ts):\n",
        "    new_params = get_linear_combination(\n",
        "        (1.0-t), start_vector, t, stop_vector\n",
        "    )\n",
        "    test_loss, test_accuracy = stuff[\"dataset_loss_and_accuracy\"](unflatten_params(new_params), test_ds,\n",
        "                                                                    10_000)\n",
        "    test_losses_list.append(test_loss)\n",
        "    test_accs_list.append(test_accuracy)\n",
        "\n",
        "    train_loss, train_accuracy = stuff[\"dataset_loss_and_accuracy\"](unflatten_params(new_params), train_ds,\n",
        "                                                                    60_000)\n",
        "    train_losses_list.append(train_loss)\n",
        "    train_accs_list.append(train_accuracy)\n",
        "\n",
        "  return ts, test_losses_list, test_accs_list, train_losses_list, train_accs_list\n"
      ]
    },
    {
      "cell_type": "code",
      "execution_count": 79,
      "metadata": {
        "id": "7sHbZDUxLdeB"
      },
      "outputs": [
        {
          "data": {
            "image/png": "[encoded data removed]",
            "text/plain": [
              "<Figure size 900x450 with 5 Axes>"
            ]
          },
          "metadata": {},
          "output_type": "display_data"
        }
      ],
      "source": [
        "import matplotlib.pyplot as plt\n",
        "\n",
        "fig = plt.figure(figsize=(12, 6), dpi = 75)\n",
        "fig.patch.set_facecolor('white')\n",
        "\n",
        "plt.suptitle(\"Git Re-Basin (MLP on MNIST)\\nThe permuted model 2 is NOT linearly connected?!?\")\n",
        "\n",
        "plt.subplot(1,2,1)\n",
        "\n",
        "plt.title(f\"Test loss weight space cut\\n{cut_str}\")\n",
        "\n",
        "plt.contourf(t1s,t2s,loss_grid.T,cmap=plt.cm.Greens_r,vmax=2.2,levels=400)\n",
        "plt.colorbar()\n",
        "\n",
        "x1,y1 = projection(v1)\n",
        "plt.scatter([x1],[y1],marker=\"o\",color=\"red\",label=\"model 1\",s=150)\n",
        "\n",
        "x2,y2 = projection(v2)\n",
        "plt.scatter([x2],[y2],marker=\"s\",color=\"blue\",label=\"model 2\",s=150)\n",
        "\n",
        "x2p,y2p = projection(v3)\n",
        "plt.scatter([x2p],[y2p],marker=\"^\",color=\"aqua\",label=\"model 2\\npermuted\",s=150)\n",
        "\n",
        "\n",
        "plt.plot([x1,x2],[y1,y2],linewidth=2,linestyle=\"--\",color=\"fuchsia\")\n",
        "plt.plot([x2,x2p],[y2,y2p],linewidth=2,linestyle=\"--\",color=\"lime\")\n",
        "plt.plot([x1,x2p],[y1,y2p],linewidth=2,linestyle=\"--\",color=\"blue\")\n",
        "\n",
        "\n",
        "plt.xlabel(\"Weight direction 1\",fontsize = 16)\n",
        "plt.ylabel(\"Weight direction 2\",fontsize = 16)\n",
        "\n",
        "plt.legend(fontsize=10,ncol=1)\n",
        "\n",
        "# getting the data\n",
        "all_test_losses = []\n",
        "ts, test_losses_list, test_accs_list, train_losses_list, train_accs_list = get_linear_cut(flattened_model1, flattened_model2_permuted_flat, 10)\n",
        "all_test_losses += test_losses_list\n",
        "ts, test_losses_list, test_accs_list, train_losses_list, train_accs_list = get_linear_cut(flattened_model2, flattened_model2_permuted_flat, 10)\n",
        "all_test_losses += test_losses_list\n",
        "ts, test_losses_list, test_accs_list, train_losses_list, train_accs_list = get_linear_cut(flattened_model1, flattened_model2, 10)\n",
        "all_test_losses += test_losses_list\n",
        "\n",
        "lower_lim = np.min(test_losses_list)-(np.max(test_losses_list)-np.min(test_losses_list))*0.1\n",
        "upper_lim = np.max(test_losses_list)+(np.max(test_losses_list)-np.min(test_losses_list))*0.1\n",
        "\n",
        "\n",
        "plt.subplot(3,2,2)\n",
        "\n",
        "ts, test_losses_list, test_accs_list, train_losses_list, train_accs_list = get_linear_cut(flattened_model1, flattened_model2_permuted_flat, 10)\n",
        "\n",
        "plt.title(f\"(Model 2 + perm) -> Model 1\",fontsize=12)\n",
        "plt.plot(ts,train_losses_list,label=\"train\",marker=\"o\",color=\"blue\",linewidth=2)\n",
        "plt.xlabel(\"Interpolation coeff\",fontsize=12)\n",
        "plt.ylabel(\"Loss\",fontsize=12)\n",
        "plt.ylim([lower_lim, upper_lim])\n",
        "\n",
        "\n",
        "plt.subplot(3,2,4)\n",
        "ts, test_losses_list, test_accs_list, train_losses_list, train_accs_list = get_linear_cut(flattened_model2, flattened_model2_permuted_flat, 10)\n",
        "plt.title(f\"Model 2 -> (Model 2 + perm)\",fontsize=12)\n",
        "plt.plot(ts,test_losses_list,label=\"test\",marker=\"o\",color=\"lime\",linewidth=2)\n",
        "plt.xlabel(\"Interpolation coeff\",fontsize=12)\n",
        "plt.ylabel(\"Loss\",fontsize=12)\n",
        "plt.ylim([lower_lim, upper_lim])\n",
        "\n",
        "plt.subplot(3,2,6)\n",
        "ts, test_losses_list, test_accs_list, train_losses_list, train_accs_list = get_linear_cut(flattened_model1, flattened_model2, 10)\n",
        "plt.title(f\"Model 1 -> Model 2\",fontsize=12)\n",
        "plt.plot(ts,test_losses_list,label=\"test\",marker=\"o\",color=\"fuchsia\",linewidth=2)\n",
        "plt.ylim([np.min(test_losses_list),np.max(test_losses_list)])\n",
        "plt.xlabel(\"Interpolation coeff\",fontsize=12)\n",
        "plt.ylabel(\"Loss\",fontsize=12)\n",
        "\n",
        "plt.ylim([lower_lim, upper_lim])\n",
        "\n",
        "plt.tight_layout()\n",
        "plt.subplots_adjust(top=0.85)\n",
        "plt.show()"
      ]
    },
    {
      "cell_type": "code",
      "execution_count": 81,
      "metadata": {
        "id": "vJ3pg-Ack-BU"
      },
      "outputs": [
        {
          "name": "stdout",
          "output_type": "stream",
          "text": [
            "[0.10914751142263412, 0.10856562852859497, 0.10805561393499374, 0.10760192573070526, 0.10717098414897919, 0.10682381689548492, 0.10652520507574081, 0.10629931837320328, 0.10612114518880844, 0.10605074465274811, 0.10606040060520172, 0.10615300387144089, 0.10630249232053757, 0.10650273412466049, 0.10679387301206589, 0.10714247822761536, 0.10751702636480331, 0.10793094336986542, 0.10837309807538986, 0.10885190218687057, 0.10937373340129852, 0.10994124412536621, 0.11055845022201538, 0.11122580617666245, 0.11193497478961945, 0.11266271024942398, 0.11341790854930878, 0.11423508077859879, 0.11512567102909088, 0.11609521508216858, 0.11715017259120941, 0.11829567700624466, 0.11949294805526733, 0.12077415734529495, 0.12215297669172287, 0.12360966950654984, 0.12517333030700684, 0.12680988013744354, 0.12855477631092072, 0.13041818141937256, 0.1323634535074234, 0.1344769448041916, 0.13678358495235443, 0.13923349976539612, 0.14184355735778809, 0.14462953805923462, 0.1475713551044464, 0.1506928652524948, 0.1539566069841385, 0.1573854684829712]\n",
            "[0.9860000014305115, 0.98580002784729, 0.98580002784729, 0.98580002784729, 0.9857000112533569, 0.9858999848365784, 0.98580002784729, 0.9854000210762024, 0.9854999780654907, 0.9854999780654907, 0.9854999780654907, 0.9853000044822693, 0.9850999712944031, 0.9850000143051147, 0.9850999712944031, 0.9850000143051147, 0.9850000143051147, 0.9850000143051147, 0.9850000143051147, 0.9850000143051147, 0.9848999977111816, 0.9846000075340271, 0.9847999811172485, 0.9847000241279602, 0.9846000075340271, 0.9843999743461609, 0.9840999841690063, 0.9842000007629395, 0.984000027179718, 0.9837999939918518, 0.9839000105857849, 0.9837999939918518, 0.9836000204086304, 0.9832000136375427, 0.9825000166893005, 0.9818999767303467, 0.9817000031471252, 0.9814000129699707, 0.9810000061988831, 0.9807999730110168, 0.9804999828338623, 0.9799000024795532, 0.9800000190734863, 0.9796000123023987, 0.9793000221252441, 0.9793999791145325, 0.9789999723434448, 0.978600025177002, 0.9782999753952026, 0.9775999784469604]\n"
          ]
        }
      ],
      "source": [
        "\n",
        "ts, test_losses_list, test_accs_list, train_losses_list, train_accs_list = get_linear_cut(flattened_model1, flattened_model2_permuted_flat, 50)\n",
        "remove_from_device = lambda x: [y.item() for y in x]\n",
        "print(remove_from_device(test_losses_list))\n",
        "print(remove_from_device(test_accs_list))"
      ]
    },
    {
      "cell_type": "code",
      "execution_count": null,
      "metadata": {},
      "outputs": [],
      "source": []
    }
  ],
  "metadata": {
    "accelerator": "GPU",
    "colab": {
      "collapsed_sections": [],
      "machine_shape": "hm",
      "provenance": []
    },
    "gpuClass": "standard",
    "kernelspec": {
      "display_name": "Python 3.7.13 ('george-37-v3')",
      "language": "python",
      "name": "python3"
    },
    "language_info": {
      "codemirror_mode": {
        "name": "ipython",
        "version": 3
      },
      "file_extension": ".py",
      "mimetype": "text/x-python",
      "name": "python",
      "nbconvert_exporter": "python",
      "pygments_lexer": "ipython3",
      "version": "3.7.13"
    },
    "vscode": {
      "interpreter": {
        "hash": "357a9754b3f9b43d18b25b66e5e92e883fce00c7f4cc1e64fb26a5d9fc9bfab1"
      }
    },
    "widgets": {
      "application/vnd.jupyter.widget-state+json": {
        "14859631937b4249a27e61fe9bb828c0": {
          "model_module": "@jupyter-widgets/controls",
          "model_module_version": "1.5.0",
          "model_name": "DescriptionStyleModel",
          "state": {
            "_model_module": "@jupyter-widgets/controls",
            "_model_module_version": "1.5.0",
            "_model_name": "DescriptionStyleModel",
            "_view_count": null,
            "_view_module": "@jupyter-widgets/base",
            "_view_module_version": "1.2.0",
            "_view_name": "StyleView",
            "description_width": ""
          }
        },
        "1ed25bd315ec464896e60879a6b85945": {
          "model_module": "@jupyter-widgets/controls",
          "model_module_version": "1.5.0",
          "model_name": "ProgressStyleModel",
          "state": {
            "_model_module": "@jupyter-widgets/controls",
            "_model_module_version": "1.5.0",
            "_model_name": "ProgressStyleModel",
            "_view_count": null,
            "_view_module": "@jupyter-widgets/base",
            "_view_module_version": "1.2.0",
            "_view_name": "StyleView",
            "bar_color": null,
            "description_width": ""
          }
        },
        "40ff82102df64bc7852563e0bbeee314": {
          "model_module": "@jupyter-widgets/base",
          "model_module_version": "1.2.0",
          "model_name": "LayoutModel",
          "state": {
            "_model_module": "@jupyter-widgets/base",
            "_model_module_version": "1.2.0",
            "_model_name": "LayoutModel",
            "_view_count": null,
            "_view_module": "@jupyter-widgets/base",
            "_view_module_version": "1.2.0",
            "_view_name": "LayoutView",
            "align_content": null,
            "align_items": null,
            "align_self": null,
            "border": null,
            "bottom": null,
            "display": null,
            "flex": null,
            "flex_flow": null,
            "grid_area": null,
            "grid_auto_columns": null,
            "grid_auto_flow": null,
            "grid_auto_rows": null,
            "grid_column": null,
            "grid_gap": null,
            "grid_row": null,
            "grid_template_areas": null,
            "grid_template_columns": null,
            "grid_template_rows": null,
            "height": null,
            "justify_content": null,
            "justify_items": null,
            "left": null,
            "margin": null,
            "max_height": null,
            "max_width": null,
            "min_height": null,
            "min_width": null,
            "object_fit": null,
            "object_position": null,
            "order": null,
            "overflow": null,
            "overflow_x": null,
            "overflow_y": null,
            "padding": null,
            "right": null,
            "top": null,
            "visibility": null,
            "width": null
          }
        },
        "4899b2ef4b4d4905b52817025a69d769": {
          "model_module": "@jupyter-widgets/base",
          "model_module_version": "1.2.0",
          "model_name": "LayoutModel",
          "state": {
            "_model_module": "@jupyter-widgets/base",
            "_model_module_version": "1.2.0",
            "_model_name": "LayoutModel",
            "_view_count": null,
            "_view_module": "@jupyter-widgets/base",
            "_view_module_version": "1.2.0",
            "_view_name": "LayoutView",
            "align_content": null,
            "align_items": null,
            "align_self": null,
            "border": null,
            "bottom": null,
            "display": null,
            "flex": null,
            "flex_flow": null,
            "grid_area": null,
            "grid_auto_columns": null,
            "grid_auto_flow": null,
            "grid_auto_rows": null,
            "grid_column": null,
            "grid_gap": null,
            "grid_row": null,
            "grid_template_areas": null,
            "grid_template_columns": null,
            "grid_template_rows": null,
            "height": null,
            "justify_content": null,
            "justify_items": null,
            "left": null,
            "margin": null,
            "max_height": null,
            "max_width": null,
            "min_height": null,
            "min_width": null,
            "object_fit": null,
            "object_position": null,
            "order": null,
            "overflow": null,
            "overflow_x": null,
            "overflow_y": null,
            "padding": null,
            "right": null,
            "top": null,
            "visibility": null,
            "width": null
          }
        },
        "9bb9d0cdd29946efb62db19011fbbec2": {
          "model_module": "@jupyter-widgets/controls",
          "model_module_version": "1.5.0",
          "model_name": "HTMLModel",
          "state": {
            "_dom_classes": [],
            "_model_module": "@jupyter-widgets/controls",
            "_model_module_version": "1.5.0",
            "_model_name": "HTMLModel",
            "_view_count": null,
            "_view_module": "@jupyter-widgets/controls",
            "_view_module_version": "1.5.0",
            "_view_name": "HTMLView",
            "description": "",
            "description_tooltip": null,
            "layout": "IPY_MODEL_4899b2ef4b4d4905b52817025a69d769",
            "placeholder": "​",
            "style": "IPY_MODEL_14859631937b4249a27e61fe9bb828c0",
            "value": " 4/4 [00:00&lt;00:00,  6.19 file/s]"
          }
        },
        "ad4d3e512f2c473bb1767b4687a972ab": {
          "model_module": "@jupyter-widgets/controls",
          "model_module_version": "1.5.0",
          "model_name": "FloatProgressModel",
          "state": {
            "_dom_classes": [],
            "_model_module": "@jupyter-widgets/controls",
            "_model_module_version": "1.5.0",
            "_model_name": "FloatProgressModel",
            "_view_count": null,
            "_view_module": "@jupyter-widgets/controls",
            "_view_module_version": "1.5.0",
            "_view_name": "ProgressView",
            "bar_style": "success",
            "description": "",
            "description_tooltip": null,
            "layout": "IPY_MODEL_f5d387618fd34921a6b3364307c5efa2",
            "max": 4,
            "min": 0,
            "orientation": "horizontal",
            "style": "IPY_MODEL_1ed25bd315ec464896e60879a6b85945",
            "value": 4
          }
        },
        "bc42a5f233814a9484a158d62d20d852": {
          "model_module": "@jupyter-widgets/controls",
          "model_module_version": "1.5.0",
          "model_name": "HBoxModel",
          "state": {
            "_dom_classes": [],
            "_model_module": "@jupyter-widgets/controls",
            "_model_module_version": "1.5.0",
            "_model_name": "HBoxModel",
            "_view_count": null,
            "_view_module": "@jupyter-widgets/controls",
            "_view_module_version": "1.5.0",
            "_view_name": "HBoxView",
            "box_style": "",
            "children": [
              "IPY_MODEL_c1d1f10c14904a2cbc020e1613a4f3fa",
              "IPY_MODEL_ad4d3e512f2c473bb1767b4687a972ab",
              "IPY_MODEL_9bb9d0cdd29946efb62db19011fbbec2"
            ],
            "layout": "IPY_MODEL_dbecc29351ea4d8dac92e6a2f5c45998"
          }
        },
        "c1d1f10c14904a2cbc020e1613a4f3fa": {
          "model_module": "@jupyter-widgets/controls",
          "model_module_version": "1.5.0",
          "model_name": "HTMLModel",
          "state": {
            "_dom_classes": [],
            "_model_module": "@jupyter-widgets/controls",
            "_model_module_version": "1.5.0",
            "_model_name": "HTMLModel",
            "_view_count": null,
            "_view_module": "@jupyter-widgets/controls",
            "_view_module_version": "1.5.0",
            "_view_name": "HTMLView",
            "description": "",
            "description_tooltip": null,
            "layout": "IPY_MODEL_40ff82102df64bc7852563e0bbeee314",
            "placeholder": "​",
            "style": "IPY_MODEL_e222493f34d34ea78e1267cd658199d8",
            "value": "Dl Completed...: 100%"
          }
        },
        "dbecc29351ea4d8dac92e6a2f5c45998": {
          "model_module": "@jupyter-widgets/base",
          "model_module_version": "1.2.0",
          "model_name": "LayoutModel",
          "state": {
            "_model_module": "@jupyter-widgets/base",
            "_model_module_version": "1.2.0",
            "_model_name": "LayoutModel",
            "_view_count": null,
            "_view_module": "@jupyter-widgets/base",
            "_view_module_version": "1.2.0",
            "_view_name": "LayoutView",
            "align_content": null,
            "align_items": null,
            "align_self": null,
            "border": null,
            "bottom": null,
            "display": null,
            "flex": null,
            "flex_flow": null,
            "grid_area": null,
            "grid_auto_columns": null,
            "grid_auto_flow": null,
            "grid_auto_rows": null,
            "grid_column": null,
            "grid_gap": null,
            "grid_row": null,
            "grid_template_areas": null,
            "grid_template_columns": null,
            "grid_template_rows": null,
            "height": null,
            "justify_content": null,
            "justify_items": null,
            "left": null,
            "margin": null,
            "max_height": null,
            "max_width": null,
            "min_height": null,
            "min_width": null,
            "object_fit": null,
            "object_position": null,
            "order": null,
            "overflow": null,
            "overflow_x": null,
            "overflow_y": null,
            "padding": null,
            "right": null,
            "top": null,
            "visibility": null,
            "width": null
          }
        },
        "e222493f34d34ea78e1267cd658199d8": {
          "model_module": "@jupyter-widgets/controls",
          "model_module_version": "1.5.0",
          "model_name": "DescriptionStyleModel",
          "state": {
            "_model_module": "@jupyter-widgets/controls",
            "_model_module_version": "1.5.0",
            "_model_name": "DescriptionStyleModel",
            "_view_count": null,
            "_view_module": "@jupyter-widgets/base",
            "_view_module_version": "1.2.0",
            "_view_name": "StyleView",
            "description_width": ""
          }
        },
        "f5d387618fd34921a6b3364307c5efa2": {
          "model_module": "@jupyter-widgets/base",
          "model_module_version": "1.2.0",
          "model_name": "LayoutModel",
          "state": {
            "_model_module": "@jupyter-widgets/base",
            "_model_module_version": "1.2.0",
            "_model_name": "LayoutModel",
            "_view_count": null,
            "_view_module": "@jupyter-widgets/base",
            "_view_module_version": "1.2.0",
            "_view_name": "LayoutView",
            "align_content": null,
            "align_items": null,
            "align_self": null,
            "border": null,
            "bottom": null,
            "display": null,
            "flex": null,
            "flex_flow": null,
            "grid_area": null,
            "grid_auto_columns": null,
            "grid_auto_flow": null,
            "grid_auto_rows": null,
            "grid_column": null,
            "grid_gap": null,
            "grid_row": null,
            "grid_template_areas": null,
            "grid_template_columns": null,
            "grid_template_rows": null,
            "height": null,
            "justify_content": null,
            "justify_items": null,
            "left": null,
            "margin": null,
            "max_height": null,
            "max_width": null,
            "min_height": null,
            "min_width": null,
            "object_fit": null,
            "object_position": null,
            "order": null,
            "overflow": null,
            "overflow_x": null,
            "overflow_y": null,
            "padding": null,
            "right": null,
            "top": null,
            "visibility": null,
            "width": null
          }
        }
      }
    }
  },
  "nbformat": 4,
  "nbformat_minor": 0
}
