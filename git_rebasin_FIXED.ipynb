{
  "cells": [
    {
      "cell_type": "markdown",
      "metadata": {
        "id": "08-3K_10YDRI"
      },
      "source": [
        "## Library imports"
      ]
    },
    {
      "cell_type": "code",
      "execution_count": 2,
      "metadata": {
        "colab": {
          "base_uri": "https://localhost:8080/"
        },
        "id": "EIwcpXjn2xOV",
        "outputId": "8ebdf675-e400-407a-efef-6cc20577105c"
      },
      "outputs": [
        {
          "name": "stdout",
          "output_type": "stream",
          "text": [
            "Requirement already satisfied: augmax in /coc/pskynet1/jbjorner3/miniconda3/envs/george-37-v3/lib/python3.7/site-packages (0.2.2)\n",
            "Requirement already satisfied: einops>=0.3 in /coc/pskynet1/jbjorner3/miniconda3/envs/george-37-v3/lib/python3.7/site-packages (from augmax) (0.4.1)\n",
            "Requirement already satisfied: jax>=0.1 in /coc/pskynet1/jbjorner3/miniconda3/envs/george-37-v3/lib/python3.7/site-packages (from augmax) (0.3.21)\n",
            "Requirement already satisfied: numpy>=1.20 in /coc/pskynet1/jbjorner3/miniconda3/envs/george-37-v3/lib/python3.7/site-packages (from jax>=0.1->augmax) (1.21.6)\n",
            "Requirement already satisfied: opt-einsum in /coc/pskynet1/jbjorner3/miniconda3/envs/george-37-v3/lib/python3.7/site-packages (from jax>=0.1->augmax) (3.3.0)\n",
            "Requirement already satisfied: scipy>=1.5 in /coc/pskynet1/jbjorner3/miniconda3/envs/george-37-v3/lib/python3.7/site-packages (from jax>=0.1->augmax) (1.7.3)\n",
            "Requirement already satisfied: etils[epath] in /coc/pskynet1/jbjorner3/miniconda3/envs/george-37-v3/lib/python3.7/site-packages (from jax>=0.1->augmax) (0.7.1)\n",
            "Requirement already satisfied: absl-py in /coc/pskynet1/jbjorner3/miniconda3/envs/george-37-v3/lib/python3.7/site-packages (from jax>=0.1->augmax) (1.2.0)\n",
            "Requirement already satisfied: typing-extensions in /coc/pskynet1/jbjorner3/miniconda3/envs/george-37-v3/lib/python3.7/site-packages (from jax>=0.1->augmax) (4.3.0)\n",
            "Requirement already satisfied: importlib_resources in /coc/pskynet1/jbjorner3/miniconda3/envs/george-37-v3/lib/python3.7/site-packages (from etils[epath]->jax>=0.1->augmax) (5.9.0)\n",
            "Requirement already satisfied: zipp in /coc/pskynet1/jbjorner3/miniconda3/envs/george-37-v3/lib/python3.7/site-packages (from etils[epath]->jax>=0.1->augmax) (3.8.1)\n"
          ]
        }
      ],
      "source": [
        "! pip install augmax\n",
        "# Install the newest JAXlib version.\n",
        "! pip install --upgrade -q pip jax jaxlib\n",
        "# Install Flax at head:\n",
        "! pip install --upgrade -q git+https://github.com/google/flax.git"
      ]
    },
    {
      "cell_type": "markdown",
      "metadata": {
        "id": "pxFk74rKYOev"
      },
      "source": [
        "## Permutation utils"
      ]
    },
    {
      "cell_type": "code",
      "execution_count": 40,
      "metadata": {
        "id": "Bqev0bBvBWOw"
      },
      "outputs": [],
      "source": [
        "from collections import defaultdict\n",
        "from typing import NamedTuple\n",
        "\n",
        "import jax.numpy as jnp\n",
        "from jax import random\n",
        "from scipy.optimize import linear_sum_assignment\n",
        "\n",
        "\n",
        "class PermutationSpec(NamedTuple):\n",
        "  perm_to_axes: dict\n",
        "  axes_to_perm: dict\n",
        "\n",
        "def permutation_spec_from_axes_to_perm(axes_to_perm: dict) -> PermutationSpec:\n",
        "  perm_to_axes = defaultdict(list)\n",
        "  for wk, axis_perms in axes_to_perm.items():\n",
        "    for axis, perm in enumerate(axis_perms):\n",
        "      if perm is not None:\n",
        "        perm_to_axes[perm].append((wk, axis))\n",
        "  return PermutationSpec(perm_to_axes=dict(perm_to_axes), axes_to_perm=axes_to_perm)\n",
        "\n",
        "def mlp_permutation_spec(num_hidden_layers: int) -> PermutationSpec:\n",
        "  \"\"\"We assume that one permutation cannot appear in two axes of the same weight array.\"\"\"\n",
        "  assert num_hidden_layers >= 1\n",
        "  return permutation_spec_from_axes_to_perm({\n",
        "      \"Dense_0/kernel\": (None, \"P_0\"),\n",
        "      **{f\"Dense_{i}/kernel\": (f\"P_{i-1}\", f\"P_{i}\")\n",
        "         for i in range(1, num_hidden_layers)},\n",
        "      **{f\"Dense_{i}/bias\": (f\"P_{i}\", )\n",
        "         for i in range(num_hidden_layers)},\n",
        "      f\"Dense_{num_hidden_layers}/kernel\": (f\"P_{num_hidden_layers-1}\", None),\n",
        "      f\"Dense_{num_hidden_layers}/bias\": (None, ),\n",
        "  })\n",
        "\n",
        "def get_permuted_param(ps: PermutationSpec, perm, k: str, params, except_axis=None):\n",
        "  \"\"\"Get parameter `k` from `params`, with the permutations applied.\"\"\"\n",
        "  w = params[k]\n",
        "  for axis, p in enumerate(ps.axes_to_perm[k]):\n",
        "    # Skip the axis we're trying to permute.\n",
        "    if axis == except_axis:\n",
        "      continue\n",
        "\n",
        "    # None indicates that there is no permutation relevant to that axis.\n",
        "    if p is not None:\n",
        "      w = jnp.take(w, perm[p], axis=axis)\n",
        "\n",
        "  return w\n",
        "\n",
        "def apply_permutation(ps: PermutationSpec, perm, params):\n",
        "  \"\"\"Apply a `perm` to `params`.\"\"\"\n",
        "  return {k: get_permuted_param(ps, perm, k, params) for k in params.keys()}\n",
        "\n",
        "def weight_matching(rng, ps: PermutationSpec, params_a, params_b, max_iter=100, init_perm=None):\n",
        "  \"\"\"Find a permutation of `params_b` to make them match `params_a`.\"\"\"\n",
        "  perm_sizes = {p: params_a[axes[0][0]].shape[axes[0][1]] for p, axes in ps.perm_to_axes.items()}\n",
        "\n",
        "  perm = {p: jnp.arange(n) for p, n in perm_sizes.items()} if init_perm is None else init_perm\n",
        "  perm_names = list(perm.keys())\n",
        "  # import ipdb; ipdb.set_trace()\n",
        "  for iteration in range(max_iter):\n",
        "    progress = False\n",
        "    for p_ix in random.permutation(rngmix(rng, iteration), len(perm_names)):\n",
        "      p = perm_names[p_ix]\n",
        "      n = perm_sizes[p]\n",
        "      A = jnp.zeros((n, n))\n",
        "      for wk, axis in ps.perm_to_axes[p]:\n",
        "        w_a = params_a[wk]\n",
        "        w_b = get_permuted_param(ps, perm, wk, params_b, except_axis=axis)\n",
        "        w_a = jnp.moveaxis(w_a, axis, 0).reshape((n, -1))\n",
        "        w_b = jnp.moveaxis(w_b, axis, 0).reshape((n, -1))\n",
        "        A += w_a @ w_b.T\n",
        "\n",
        "      ri, ci = linear_sum_assignment(A, maximize=True)\n",
        "      assert (ri == jnp.arange(len(ri))).all()\n",
        "\n",
        "      oldL = jnp.vdot(A, jnp.eye(n)[perm[p]])\n",
        "      newL = jnp.vdot(A, jnp.eye(n)[ci, :])\n",
        "      print(f\"{iteration}/{p}: {newL - oldL}\")\n",
        "      progress = progress or newL > oldL + 1e-12\n",
        "\n",
        "      perm[p] = jnp.array(ci)\n",
        "\n",
        "    if not progress:\n",
        "      break\n",
        "\n",
        "  return perm\n",
        "\n",
        "def test_weight_matching():\n",
        "  \"\"\"If we just have a single hidden layer then it should converge after just one step.\"\"\"\n",
        "  ps = mlp_permutation_spec(num_hidden_layers=1)\n",
        "  rng = random.PRNGKey(123)\n",
        "  num_hidden = 10\n",
        "  shapes = {\n",
        "      \"Dense_0/kernel\": (2, num_hidden),\n",
        "      \"Dense_0/bias\": (num_hidden, ),\n",
        "      \"Dense_1/kernel\": (num_hidden, 3),\n",
        "      \"Dense_1/bias\": (3, )\n",
        "  }\n",
        "  params_a = {k: random.normal(rngmix(rng, f\"a-{k}\"), shape) for k, shape in shapes.items()}\n",
        "  params_b = {k: random.normal(rngmix(rng, f\"b-{k}\"), shape) for k, shape in shapes.items()}\n",
        "  perm = weight_matching(rng, ps, params_a, params_b)\n",
        "  print(perm)\n",
        "\n"
      ]
    },
    {
      "cell_type": "markdown",
      "metadata": {
        "id": "MRRnQciSYXVu"
      },
      "source": [
        "## Utils"
      ]
    },
    {
      "cell_type": "code",
      "execution_count": 4,
      "metadata": {
        "id": "186MTf_d3Tvh"
      },
      "outputs": [],
      "source": [
        "import operator\n",
        "import re\n",
        "import time\n",
        "\n",
        "import jax.numpy as jnp\n",
        "from flax import traverse_util\n",
        "from flax.core import freeze, unfreeze\n",
        "from jax import random, tree_map\n",
        "from jax.tree_util import tree_reduce\n",
        "\n",
        "rngmix = lambda rng, x: random.fold_in(rng, hash(x))\n",
        "\n",
        "class RngPooper:\n",
        "  \"\"\"A stateful wrapper around stateless random.PRNGKey's.\"\"\"\n",
        "\n",
        "  def __init__(self, init_rng):\n",
        "    self.rng = init_rng\n",
        "\n",
        "  def poop(self):\n",
        "    self.rng, rng_key = random.split(self.rng)\n",
        "    return rng_key\n",
        "\n",
        "def l1prox(x, alpha):\n",
        "  return jnp.sign(x) * jnp.maximum(0, jnp.abs(x) - alpha)\n",
        "\n",
        "def flatten_params(params):\n",
        "  return {\"/\".join(k): v for k, v in traverse_util.flatten_dict(unfreeze(params)).items()}\n",
        "\n",
        "def unflatten_params(flat_params):\n",
        "  return freeze(\n",
        "      traverse_util.unflatten_dict({tuple(k.split(\"/\")): v\n",
        "                                    for k, v in flat_params.items()}))\n",
        "\n",
        "def merge_params(a, b):\n",
        "  return unflatten_params({**a, **b})\n",
        "\n",
        "def kmatch(pattern, key):\n",
        "  regex = \"^\"\n",
        "  i = 0\n",
        "  while i < len(pattern):\n",
        "    if pattern[i] == \"*\":\n",
        "      if i + 1 < len(pattern) and pattern[i + 1] == \"*\":\n",
        "        regex += \"(.*)\"\n",
        "        i += 2\n",
        "      else:\n",
        "        regex += \"([^\\/]*)\"\n",
        "        i += 1\n",
        "    else:\n",
        "      regex += pattern[i]\n",
        "      i += 1\n",
        "  regex += \"$\"\n",
        "  return re.fullmatch(regex, key)\n",
        "\n",
        "assert kmatch(\"*\", \"a\") is not None\n",
        "assert kmatch(\"*\", \"a\").group(0) == \"a\"\n",
        "assert kmatch(\"*\", \"a\").group(1) == \"a\"\n",
        "assert kmatch(\"abc\", \"def\") is None\n",
        "assert kmatch(\"abc/*/ghi\", \"abc/def/ghi\").group(1) == \"def\"\n",
        "assert kmatch(\"abc/**/jkl\", \"abc/def/ghi/jkl\").group(1) == \"def/ghi\"\n",
        "assert kmatch(\"abc/*/jkl\", \"abc/def/ghi/jkl\") is None\n",
        "assert kmatch(\"**/*\", \"abc/def/ghi/jkl\").group(1) == \"abc/def/ghi\"\n",
        "assert kmatch(\"**/*\", \"abc/def/ghi/jkl\").group(2) == \"jkl\"\n"
      ]
    },
    {
      "cell_type": "markdown",
      "metadata": {
        "id": "UspSJSjzYqdl"
      },
      "source": [
        "## MLP model and dataset"
      ]
    },
    {
      "cell_type": "code",
      "execution_count": 5,
      "metadata": {
        "colab": {
          "base_uri": "https://localhost:8080/"
        },
        "id": "8py7J8FF2fTW",
        "outputId": "736e5366-c878-4d13-de15-78315b1ce518"
      },
      "outputs": [
        {
          "name": "stderr",
          "output_type": "stream",
          "text": [
            "WARNING:absl:No GPU/TPU found, falling back to CPU. (Set TF_CPP_MIN_LOG_LEVEL=0 and rerun for more info.)\n",
            "/srv/share/jbjorner3/miniconda3/envs/george-37-v3/lib/python3.7/site-packages/tqdm/auto.py:22: TqdmWarning: IProgress not found. Please update jupyter and ipywidgets. See https://ipywidgets.readthedocs.io/en/stable/user_install.html\n",
            "  from .autonotebook import tqdm as notebook_tqdm\n"
          ]
        }
      ],
      "source": [
        "\n",
        "\"\"\"Train an MLP on MNIST on one random seed. Serialize the model for\n",
        "interpolation downstream.\"\"\"\n",
        "import argparse\n",
        "\n",
        "import augmax\n",
        "import flax\n",
        "import jax\n",
        "import jax.numpy as jnp\n",
        "import numpy as np\n",
        "import optax\n",
        "import tensorflow as tf\n",
        "import tensorflow_datasets as tfds\n",
        "\n",
        "from flax import linen as nn\n",
        "from flax.training.train_state import TrainState\n",
        "from jax import jit, random, tree_map, value_and_grad, vmap\n",
        "from tqdm import tqdm\n",
        "\n",
        "# See https://github.com/tensorflow/tensorflow/issues/53831.\n",
        "\n",
        "# See https://github.com/google/jax/issues/9454.\n",
        "tf.config.set_visible_devices([], \"GPU\")\n",
        "\n",
        "activation = nn.relu\n",
        "\n",
        "class MLPModel(nn.Module):\n",
        "\n",
        "  @nn.compact\n",
        "  def __call__(self, x):\n",
        "    x = jnp.reshape(x, (-1, 28 * 28))\n",
        "    x = nn.Dense(512)(x)\n",
        "    x = activation(x)\n",
        "    x = nn.Dense(512)(x)\n",
        "    x = activation(x)\n",
        "    x = nn.Dense(512)(x)\n",
        "    x = activation(x)\n",
        "    x = nn.Dense(10)(x)\n",
        "    x = nn.log_softmax(x)\n",
        "    return x\n",
        "\n",
        "def make_stuff(model):\n",
        "  normalize_transform = augmax.ByteToFloat()\n",
        "\n",
        "  @jit\n",
        "  def batch_eval(params, images_u8, labels):\n",
        "    images_f32 = vmap(normalize_transform)(None, images_u8)\n",
        "    logits = model.apply({\"params\": params}, images_f32)\n",
        "    y_onehot = jax.nn.one_hot(labels, 10)\n",
        "    loss = jnp.mean(optax.softmax_cross_entropy(logits=logits, labels=y_onehot))\n",
        "    num_correct = jnp.sum(jnp.argmax(logits, axis=-1) == jnp.argmax(y_onehot, axis=-1))\n",
        "    return loss, {\"num_correct\": num_correct}\n",
        "\n",
        "  # Stan's addition for saving predictions of the model to see how they differ\n",
        "  @jit\n",
        "  def batch_predictions(params, images_u8, labels):\n",
        "    images_f32 = vmap(normalize_transform)(None, images_u8)\n",
        "    logits = model.apply({\"params\": params}, images_f32)\n",
        "    y_onehot = jax.nn.one_hot(labels, 10)\n",
        "    loss = jnp.mean(optax.softmax_cross_entropy(logits=logits, labels=y_onehot))\n",
        "    num_correct = jnp.sum(jnp.argmax(logits, axis=-1) == jnp.argmax(y_onehot, axis=-1))\n",
        "    return loss, logits, y_onehot, {\"num_correct\": num_correct}\n",
        "\n",
        "  @jit\n",
        "  def step(train_state, images_f32, labels):\n",
        "    (l, info), g = value_and_grad(batch_eval, has_aux=True)(train_state.params, images_f32, labels)\n",
        "    return train_state.apply_gradients(grads=g), {\"batch_loss\": l, **info}\n",
        "\n",
        "  def dataset_loss_and_accuracy(params, dataset, batch_size: int):\n",
        "    num_examples = dataset[\"images_u8\"].shape[0]\n",
        "    assert num_examples % batch_size == 0\n",
        "    num_batches = num_examples // batch_size\n",
        "    batch_ix = jnp.arange(num_examples).reshape((num_batches, batch_size))\n",
        "    # Can't use vmap or run in a single batch since that overloads GPU memory.\n",
        "    losses, infos = zip(*[\n",
        "        batch_eval(\n",
        "            params,\n",
        "            dataset[\"images_u8\"][batch_ix[i, :], :, :, :],\n",
        "            dataset[\"labels\"][batch_ix[i, :]],\n",
        "        ) for i in range(num_batches)\n",
        "    ])\n",
        "    return (\n",
        "        jnp.sum(batch_size * jnp.array(losses)) / num_examples,\n",
        "        sum(x[\"num_correct\"] for x in infos) / num_examples,\n",
        "    )\n",
        "\n",
        "  # Stan's addition for saving predictions of the model to see how they differ\n",
        "  def dataset_predictions(params, dataset, batch_size: int):\n",
        "    num_examples = dataset[\"images_u8\"].shape[0]\n",
        "    assert num_examples % batch_size == 0\n",
        "    num_batches = num_examples // batch_size\n",
        "    batch_ix = jnp.arange(num_examples).reshape((num_batches, batch_size))\n",
        "    # Can't use vmap or run in a single batch since that overloads GPU memory.\n",
        "    losses, logits, y_onehots, infos = zip(*[\n",
        "        batch_predictions(\n",
        "            params,\n",
        "            dataset[\"images_u8\"][batch_ix[i, :], :, :, :],\n",
        "            dataset[\"labels\"][batch_ix[i, :]],\n",
        "        ) for i in range(num_batches)\n",
        "    ])\n",
        "    return (\n",
        "        jnp.sum(batch_size * jnp.array(losses)) / num_examples,\n",
        "        sum(x[\"num_correct\"] for x in infos) / num_examples,\n",
        "        logits,\n",
        "        y_onehots,\n",
        "    )\n",
        "\n",
        "  return {\n",
        "      \"normalize_transform\": normalize_transform,\n",
        "      \"batch_eval\": batch_eval,\n",
        "      \"step\": step,\n",
        "      \"dataset_loss_and_accuracy\": dataset_loss_and_accuracy,\n",
        "      \"dataset_predictions\": dataset_predictions,\n",
        "  }\n",
        "\n",
        "def load_datasets():\n",
        "  \"\"\"Return the training and test datasets, unbatched.\"\"\"\n",
        "  # See https://www.tensorflow.org/datasets/overview#as_batched_tftensor_batch_size-1.\n",
        "  train_ds_images_u8, train_ds_labels = tfds.as_numpy(\n",
        "      tfds.load(\"mnist\", split=\"train\", batch_size=-1, as_supervised=True))\n",
        "  test_ds_images_u8, test_ds_labels = tfds.as_numpy(\n",
        "      tfds.load(\"mnist\", split=\"test\", batch_size=-1, as_supervised=True))\n",
        "  train_ds = {\"images_u8\": train_ds_images_u8, \"labels\": train_ds_labels}\n",
        "  test_ds = {\"images_u8\": test_ds_images_u8, \"labels\": test_ds_labels}\n",
        "  return train_ds, test_ds\n",
        "\n"
      ]
    },
    {
      "cell_type": "markdown",
      "metadata": {
        "id": "Y7xeM-sdZAp6"
      },
      "source": [
        "## Runs details"
      ]
    },
    {
      "cell_type": "code",
      "execution_count": 6,
      "metadata": {
        "id": "2Uc_f5roM8j1"
      },
      "outputs": [],
      "source": [
        "num_epochs = 100\n",
        "batch_size = 500\n",
        "seed = 12421\n",
        "config_optimizer = \"adam\" #\"adam\"\n",
        "learning_rate = 1e-3\n",
        "\n",
        "runs_to_collect = 2 #Stan's new stuff\n",
        "\n",
        "rng = random.PRNGKey(seed)"
      ]
    },
    {
      "cell_type": "code",
      "execution_count": 7,
      "metadata": {
        "colab": {
          "base_uri": "https://localhost:8080/",
          "height": 386,
          "referenced_widgets": [
            "bc42a5f233814a9484a158d62d20d852",
            "c1d1f10c14904a2cbc020e1613a4f3fa",
            "ad4d3e512f2c473bb1767b4687a972ab",
            "9bb9d0cdd29946efb62db19011fbbec2",
            "dbecc29351ea4d8dac92e6a2f5c45998",
            "40ff82102df64bc7852563e0bbeee314",
            "e222493f34d34ea78e1267cd658199d8",
            "f5d387618fd34921a6b3364307c5efa2",
            "1ed25bd315ec464896e60879a6b85945",
            "4899b2ef4b4d4905b52817025a69d769",
            "14859631937b4249a27e61fe9bb828c0"
          ]
        },
        "id": "zBizSu-K2pjv",
        "outputId": "fcad18a3-ca1d-4503-eb6e-75850ce6e854"
      },
      "outputs": [
        {
          "name": "stdout",
          "output_type": "stream",
          "text": [
            "--------------------------\n",
            "Starting run 0\n",
            "train_ds labels hash 3151670706820379385\n",
            "test_ds labels hash 1058761049938831350\n",
            "num_train_examples 60000\n",
            "num_test_examples 10000\n"
          ]
        },
        {
          "name": "stderr",
          "output_type": "stream",
          "text": [
            "100%|██████████| 100/100 [02:03<00:00,  1.24s/it]\n"
          ]
        },
        {
          "name": "stdout",
          "output_type": "stream",
          "text": [
            "-----------------\n",
            "Run 0 DONE!\n",
            "Run=0 test loss=0.11106216162443161 test accuracy=0.9850999712944031 train loss=2.2171869318299287e-07 train accuracy=1.0\n",
            "--------------------------\n",
            "Starting run 1\n",
            "train_ds labels hash 3151670706820379385\n",
            "test_ds labels hash 1058761049938831350\n",
            "num_train_examples 60000\n",
            "num_test_examples 10000\n"
          ]
        },
        {
          "name": "stderr",
          "output_type": "stream",
          "text": [
            "100%|██████████| 100/100 [01:56<00:00,  1.16s/it]\n"
          ]
        },
        {
          "name": "stdout",
          "output_type": "stream",
          "text": [
            "-----------------\n",
            "Run 1 DONE!\n",
            "Run=1 test loss=0.11978786438703537 test accuracy=0.9848999977111816 train loss=1.1934575638861133e-07 train accuracy=1.0\n"
          ]
        }
      ],
      "source": [
        "# storing model params after training\n",
        "flattened_models_list = []\n",
        "\n",
        "for run_i in range(runs_to_collect):\n",
        "\n",
        "  rng = random.PRNGKey(seed+run_i) # chaning the seed each run \n",
        "  rngmix = lambda rng, x: random.fold_in(rng, hash(x))\n",
        "\n",
        "  model = MLPModel()\n",
        "  stuff = make_stuff(model)\n",
        "\n",
        "  print(\"--------------------------\")\n",
        "  print(f\"Starting run {run_i}\")\n",
        "\n",
        "\n",
        "  train_ds, test_ds = load_datasets()\n",
        "  print(\"train_ds labels hash\", hash(np.array(train_ds[\"labels\"]).tobytes()))\n",
        "  print(\"test_ds labels hash\", hash(np.array(test_ds[\"labels\"]).tobytes()))\n",
        "\n",
        "  num_train_examples = train_ds[\"images_u8\"].shape[0]\n",
        "  num_test_examples = test_ds[\"images_u8\"].shape[0]\n",
        "  assert num_train_examples % batch_size == 0\n",
        "  print(\"num_train_examples\", num_train_examples)\n",
        "  print(\"num_test_examples\", num_test_examples)\n",
        "\n",
        "  if config_optimizer == \"sgd\":\n",
        "    # See runs:\n",
        "    # * https://wandb.ai/skainswo/playing-the-lottery/runs/3blb4uhm\n",
        "    # * https://wandb.ai/skainswo/playing-the-lottery/runs/174j7umt\n",
        "    # * https://wandb.ai/skainswo/playing-the-lottery/runs/td02y8gg\n",
        "    lr_schedule = optax.warmup_cosine_decay_schedule(\n",
        "        init_value=1e-6,\n",
        "        peak_value=learning_rate,\n",
        "        warmup_steps=10,\n",
        "        # Confusingly, `decay_steps` is actually the total number of steps,\n",
        "        # including the warmup.\n",
        "        decay_steps=num_epochs * (num_train_examples // batch_size),\n",
        "    )\n",
        "    tx = optax.sgd(lr_schedule, momentum=0.9)\n",
        "  elif config_optimizer == \"adam\":\n",
        "    # See runs:\n",
        "    # - https://wandb.ai/skainswo/playing-the-lottery/runs/1b1gztfx (trim-fire-575)\n",
        "    # - https://wandb.ai/skainswo/playing-the-lottery/runs/1hrmw7wr (wild-dream-576)\n",
        "    tx = optax.adam(learning_rate)\n",
        "  else:\n",
        "    # See runs:\n",
        "    # - https://wandb.ai/skainswo/playing-the-lottery/runs/k4luj7er (faithful-spaceship-579)\n",
        "    # - https://wandb.ai/skainswo/playing-the-lottery/runs/3ru7xy8c (sage-forest-580)\n",
        "    tx = optax.adamw(learning_rate, weight_decay=1e-4)\n",
        "\n",
        "  train_state = TrainState.create(\n",
        "      apply_fn=model.apply,\n",
        "      params=model.init(rngmix(rng, f\"init{run_i}\"), jnp.zeros((1, 28, 28, 1)))[\"params\"],\n",
        "      tx=tx,\n",
        "  )\n",
        "\n",
        "  for epoch in tqdm(range(num_epochs)):\n",
        "    infos = []\n",
        "  \n",
        "    batch_ix = random.permutation(rngmix(rng, f\"epoch-{epoch}\"), num_train_examples).reshape(\n",
        "        (-1, batch_size))\n",
        "    for i in range(batch_ix.shape[0]):\n",
        "      p = batch_ix[i, :]\n",
        "      images_u8 = train_ds[\"images_u8\"][p, :, :, :]\n",
        "      labels = train_ds[\"labels\"][p]\n",
        "      train_state, info = stuff[\"step\"](train_state, images_u8, labels)\n",
        "    \n",
        "\n",
        "    train_loss = sum(batch_size * x[\"batch_loss\"] for x in infos) / num_train_examples\n",
        "    train_accuracy = sum(x[\"num_correct\"] for x in infos) / num_train_examples\n",
        "\n",
        "    \n",
        "    actest_loss, test_accuracy = stuff[\"dataset_loss_and_accuracy\"](train_state.params, test_ds,\n",
        "                                                                    10_000)\n",
        "\n",
        "    params_l2 = tree_map(lambda x: jnp.sqrt(jnp.sum(x**2)),\n",
        "                          flatten_params({\"params_l2\": train_state.params}))\n",
        "    \n",
        "    \n",
        "  # summary\n",
        "  print(\"-----------------\")\n",
        "  print(f\"Run {run_i} DONE!\")\n",
        "  test_loss, test_accuracy = stuff[\"dataset_loss_and_accuracy\"](train_state.params, test_ds,\n",
        "                                                                10_000)\n",
        "  train_loss, train_accuracy = stuff[\"dataset_loss_and_accuracy\"](train_state.params, train_ds,\n",
        "                                                                60_000)\n",
        "  print(f\"Run={run_i} test loss={test_loss} test accuracy={test_accuracy} train loss={train_loss} train accuracy={train_accuracy}\")\n",
        "  # import ipdb\n",
        "  # ipdb.set_trace()\n",
        "  flattened_models_list.append(flatten_params(train_state.params))\n"
      ]
    },
    {
      "cell_type": "code",
      "execution_count": 8,
      "metadata": {
        "id": "vYDeIaVAbDQp"
      },
      "outputs": [],
      "source": [
        "# flattening params\n",
        "assert len(flattened_models_list) >= 2\n",
        "flattened_model1 = flattened_models_list[0]\n",
        "flattened_model2 = flattened_models_list[1]"
      ]
    },
    {
      "cell_type": "markdown",
      "metadata": {
        "id": "kynTrJ-VbNOY"
      },
      "source": [
        "## Permuting the model"
      ]
    },
    {
      "cell_type": "code",
      "execution_count": 45,
      "metadata": {},
      "outputs": [
        {
          "name": "stdout",
          "output_type": "stream",
          "text": [
            "2.805352342414007e-15\n",
            "2.8359340393640026e-15\n",
            "2.2933314503942404\n",
            "3.88995515170819\n",
            "4.145019374494929\n"
          ]
        }
      ],
      "source": [
        "A = np.random.rand(10,10)\n",
        "B = np.random.rand(10,10)\n",
        "U, s, V = np.linalg.svd(A @ B.T, full_matrices=False)\n",
        "Q = U @ V\n",
        "print(np.linalg.norm(Q @ Q.T - np.eye(10)))\n",
        "print(np.linalg.norm(Q.T @ Q - np.eye(10)))\n",
        "print(np.linalg.norm(A.T @ Q - B.T))\n",
        "print(np.linalg.norm(A.T - B.T))\n",
        "\n"
      ]
    },
    {
      "cell_type": "code",
      "execution_count": 42,
      "metadata": {},
      "outputs": [
        {
          "data": {
            "text/plain": [
              "PermutationSpec(perm_to_axes={'P_0': [('Dense_0/kernel', 1), ('Dense_1/kernel', 0), ('Dense_0/bias', 0)], 'P_1': [('Dense_1/kernel', 1), ('Dense_2/kernel', 0), ('Dense_1/bias', 0)], 'P_2': [('Dense_2/kernel', 1), ('Dense_2/bias', 0), ('Dense_3/kernel', 0)]}, axes_to_perm={'Dense_0/kernel': (None, 'P_0'), 'Dense_1/kernel': ('P_0', 'P_1'), 'Dense_2/kernel': ('P_1', 'P_2'), 'Dense_0/bias': ('P_0',), 'Dense_1/bias': ('P_1',), 'Dense_2/bias': ('P_2',), 'Dense_3/kernel': ('P_2', None), 'Dense_3/bias': (None,)})"
            ]
          },
          "execution_count": 42,
          "metadata": {},
          "output_type": "execute_result"
        }
      ],
      "source": [
        "permutation_spec"
      ]
    },
    {
      "cell_type": "code",
      "execution_count": 41,
      "metadata": {
        "id": "IkP-ryVUBDbC"
      },
      "outputs": [
        {
          "name": "stdout",
          "output_type": "stream",
          "text": [
            "0/P_0: 550.6402587890625\n",
            "0/P_1: 286.3902587890625\n",
            "0/P_2: 191.0861053466797\n",
            "1/P_0: 18.82159423828125\n",
            "1/P_2: 0.0\n",
            "1/P_1: 57.509033203125\n",
            "2/P_2: 23.896820068359375\n",
            "2/P_0: 5.09381103515625\n",
            "2/P_1: 6.28509521484375\n",
            "3/P_0: 1.61859130859375\n",
            "3/P_1: 0.92144775390625\n",
            "3/P_2: 5.687835693359375\n",
            "4/P_0: 0.29412841796875\n",
            "4/P_1: 1.5391845703125\n",
            "4/P_2: 1.757537841796875\n",
            "5/P_1: 0.24859619140625\n",
            "5/P_2: 0.7718505859375\n",
            "5/P_0: 0.57720947265625\n",
            "6/P_1: 0.10638427734375\n",
            "6/P_2: 0.537628173828125\n",
            "6/P_0: 0.01959228515625\n",
            "7/P_2: 0.0\n",
            "7/P_1: 0.01116943359375\n",
            "7/P_0: 0.13018798828125\n",
            "8/P_1: 0.006103515625\n",
            "8/P_0: 0.0\n",
            "8/P_2: 0.19830322265625\n",
            "9/P_0: 0.0\n",
            "9/P_1: 0.0108642578125\n",
            "9/P_2: 0.086578369140625\n",
            "10/P_2: 0.0\n",
            "10/P_0: 0.025390625\n",
            "10/P_1: 0.0135498046875\n",
            "11/P_0: 0.0101318359375\n",
            "11/P_2: 0.01885986328125\n",
            "11/P_1: 0.0269775390625\n",
            "12/P_0: 0.0189208984375\n",
            "12/P_1: 0.0\n",
            "12/P_2: 0.24224853515625\n",
            "13/P_2: 0.0\n",
            "13/P_1: 0.01861572265625\n",
            "13/P_0: 0.0177001953125\n",
            "14/P_0: 0.0\n",
            "14/P_2: 0.049224853515625\n",
            "14/P_1: 0.0264892578125\n",
            "15/P_1: 0.0\n",
            "15/P_0: 0.0\n",
            "15/P_2: 0.1341552734375\n",
            "16/P_1: 0.1068115234375\n",
            "16/P_2: 0.0679931640625\n",
            "16/P_0: 0.03082275390625\n",
            "17/P_0: 0.0\n",
            "17/P_2: 0.0\n",
            "17/P_1: 0.02569580078125\n",
            "18/P_0: 0.0\n",
            "18/P_1: 0.0\n",
            "18/P_2: 0.0694580078125\n",
            "19/P_0: 0.0\n",
            "19/P_1: 0.0\n",
            "19/P_2: 0.0\n"
          ]
        }
      ],
      "source": [
        "permutation_spec = mlp_permutation_spec(3)\n",
        "final_permutation = weight_matching(random.PRNGKey(seed), permutation_spec,\n",
        "                                    flattened_model1, flattened_model2)"
      ]
    },
    {
      "cell_type": "code",
      "execution_count": 10,
      "metadata": {
        "id": "_jMuWKFBBGy1"
      },
      "outputs": [],
      "source": [
        "# applying the permutation to the second model\n",
        "flattened_model1_permuted = unflatten_params(\n",
        "        apply_permutation(permutation_spec, final_permutation, flattened_model1)\n",
        "        )\n",
        "flattened_model2_permuted = unflatten_params(\n",
        "        apply_permutation(permutation_spec, final_permutation, flattened_model2)\n",
        "        )"
      ]
    },
    {
      "cell_type": "markdown",
      "metadata": {
        "id": "OJCgHKhCbnlO"
      },
      "source": [
        "## Performance verification"
      ]
    },
    {
      "cell_type": "markdown",
      "metadata": {
        "id": "4ayKKHGlbrMN"
      },
      "source": [
        "### Model 1"
      ]
    },
    {
      "cell_type": "code",
      "execution_count": 11,
      "metadata": {
        "id": "1LWHcfq5DVnC"
      },
      "outputs": [
        {
          "name": "stdout",
          "output_type": "stream",
          "text": [
            "Model 1\n",
            "train_loss=2.2171869318299287e-07 train_accuracy=1.0\n",
            "test_loss=0.11106216162443161 test_accuracy=0.9850999712944031\n"
          ]
        }
      ],
      "source": [
        "test_loss, test_accuracy = stuff[\"dataset_loss_and_accuracy\"](unflatten_params(flattened_model1), test_ds,\n",
        "                                                                  10_000)\n",
        "train_loss, train_accuracy = stuff[\"dataset_loss_and_accuracy\"](unflatten_params(flattened_model1), train_ds,\n",
        "                                                                  60_000)\n",
        "print(\"Model 1\")\n",
        "print(f\"train_loss={train_loss} train_accuracy={train_accuracy}\")\n",
        "print(f\"test_loss={test_loss} test_accuracy={test_accuracy}\")"
      ]
    },
    {
      "cell_type": "markdown",
      "metadata": {
        "id": "eRaQ3-Zdb-k1"
      },
      "source": [
        "### Model 2"
      ]
    },
    {
      "cell_type": "code",
      "execution_count": 12,
      "metadata": {
        "id": "hvHBV5MhBt7z"
      },
      "outputs": [
        {
          "name": "stdout",
          "output_type": "stream",
          "text": [
            "Model 2\n",
            "train_loss=1.1934575638861133e-07 train_accuracy=1.0\n",
            "test_loss=0.11978786438703537 test_accuracy=0.9848999977111816\n"
          ]
        }
      ],
      "source": [
        "test_loss, test_accuracy = stuff[\"dataset_loss_and_accuracy\"](unflatten_params(flattened_model2), test_ds,\n",
        "                                                                  10_000)\n",
        "train_loss, train_accuracy = stuff[\"dataset_loss_and_accuracy\"](unflatten_params(flattened_model2), train_ds,\n",
        "                                                                  60_000)\n",
        "print(\"Model 2\")\n",
        "print(f\"train_loss={train_loss} train_accuracy={train_accuracy}\")\n",
        "print(f\"test_loss={test_loss} test_accuracy={test_accuracy}\")"
      ]
    },
    {
      "cell_type": "markdown",
      "metadata": {
        "id": "xigRsStYeAsN"
      },
      "source": [
        "### Model 1 with permutation"
      ]
    },
    {
      "cell_type": "code",
      "execution_count": 13,
      "metadata": {
        "id": "EB2laCOweDvX"
      },
      "outputs": [
        {
          "name": "stdout",
          "output_type": "stream",
          "text": [
            "Model 1 with permutation\n",
            "train_loss=2.2171869318299287e-07 train_accuracy=1.0\n",
            "test_loss=0.11106216162443161 test_accuracy=0.9850999712944031\n"
          ]
        }
      ],
      "source": [
        "test_loss, test_accuracy = stuff[\"dataset_loss_and_accuracy\"](unflatten_params(flattened_model1_permuted), test_ds,\n",
        "                                                                  10_000)\n",
        "train_loss, train_accuracy = stuff[\"dataset_loss_and_accuracy\"](unflatten_params(flattened_model1_permuted), train_ds,\n",
        "                                                                  60_000)\n",
        "print(\"Model 1 with permutation\")\n",
        "print(f\"train_loss={train_loss} train_accuracy={train_accuracy}\")\n",
        "print(f\"test_loss={test_loss} test_accuracy={test_accuracy}\")"
      ]
    },
    {
      "cell_type": "markdown",
      "metadata": {
        "id": "RRcbDw4ocCsw"
      },
      "source": [
        "### Model 2 with permutation"
      ]
    },
    {
      "cell_type": "code",
      "execution_count": 14,
      "metadata": {
        "id": "O7Qny9mvDW_D"
      },
      "outputs": [
        {
          "name": "stdout",
          "output_type": "stream",
          "text": [
            "Model 2 with permutation\n",
            "train_loss=1.1934575638861133e-07 train_accuracy=1.0\n",
            "test_loss=0.11978786438703537 test_accuracy=0.9848999977111816\n"
          ]
        }
      ],
      "source": [
        "test_loss, test_accuracy = stuff[\"dataset_loss_and_accuracy\"](unflatten_params(flattened_model2_permuted), test_ds,\n",
        "                                                                  10_000)\n",
        "train_loss, train_accuracy = stuff[\"dataset_loss_and_accuracy\"](unflatten_params(flattened_model2_permuted), train_ds,\n",
        "                                                                  60_000)\n",
        "print(\"Model 2 with permutation\")\n",
        "print(f\"train_loss={train_loss} train_accuracy={train_accuracy}\")\n",
        "print(f\"test_loss={test_loss} test_accuracy={test_accuracy}\")"
      ]
    },
    {
      "cell_type": "markdown",
      "metadata": {
        "id": "DEnczZuEeKbv"
      },
      "source": [
        "## Weight vector analysis"
      ]
    },
    {
      "cell_type": "code",
      "execution_count": 15,
      "metadata": {
        "id": "VMbbA5UPEXfk"
      },
      "outputs": [],
      "source": [
        "flattened_model1_permuted_flat = flatten_params(flattened_model1_permuted)\n",
        "flattened_model2_permuted_flat = flatten_params(flattened_model2_permuted)"
      ]
    },
    {
      "cell_type": "code",
      "execution_count": 16,
      "metadata": {},
      "outputs": [
        {
          "name": "stdout",
          "output_type": "stream",
          "text": [
            "(784, 512)\n",
            "44.77825\n",
            "39.63502\n",
            "34.104206\n",
            "0.3032348\n",
            "0.008444236\n",
            "0.015268174\n"
          ]
        }
      ],
      "source": [
        "# jakob analysis, would have expected the norms to point in the same direciton because they are in similar basins of loss. and they do! \n",
        "print(flattened_model2_permuted_flat[\"Dense_0/kernel\"].shape)\n",
        "normalized_model1 = flattened_model1[\"Dense_0/kernel\"] / jnp.linalg.norm(flattened_model1[\"Dense_0/kernel\"])\n",
        "print(jnp.linalg.norm(flattened_model1[\"Dense_0/kernel\"]))\n",
        "normalized_model2 = flattened_model2_permuted_flat[\"Dense_0/kernel\"] / jnp.linalg.norm(flattened_model2_permuted_flat[\"Dense_0/kernel\"])\n",
        "print(jnp.linalg.norm(flattened_model2_permuted_flat[\"Dense_0/kernel\"]))\n",
        "print(jnp.linalg.norm((flattened_model1[\"Dense_0/kernel\"] + flattened_model2_permuted_flat[\"Dense_0/kernel\"])/2))\n",
        "print(normalized_model1.reshape(-1).T @ normalized_model2.reshape(-1))\n",
        "normalized_model2 = flattened_model2[\"Dense_0/kernel\"] / jnp.linalg.norm(flattened_model1[\"Dense_0/kernel\"])\n",
        "print(normalized_model1.reshape(-1).T @ normalized_model2.reshape(-1))\n",
        "normalized_model1 = flattened_model1_permuted_flat[\"Dense_0/kernel\"] / jnp.linalg.norm(flattened_model1_permuted_flat[\"Dense_0/kernel\"])\n",
        "print(normalized_model1.reshape(-1).T @ normalized_model2.reshape(-1))"
      ]
    },
    {
      "cell_type": "code",
      "execution_count": 17,
      "metadata": {
        "id": "KWnv1-pfCM-w"
      },
      "outputs": [],
      "source": [
        "# all in long vectors\n",
        "keys = flattened_model1.keys()\n",
        "\n",
        "v1 = jnp.concatenate([flattened_model1[key].reshape([-1]) for key in keys],axis=0)\n",
        "v2 = jnp.concatenate([flattened_model2[key].reshape([-1]) for key in keys],axis=0)\n",
        "v1_perm = jnp.concatenate([flattened_model1_permuted_flat[key].reshape([-1]) for key in keys],axis=0)\n",
        "v2_perm = jnp.concatenate([flattened_model2_permuted_flat[key].reshape([-1]) for key in keys],axis=0)"
      ]
    },
    {
      "cell_type": "code",
      "execution_count": 18,
      "metadata": {},
      "outputs": [
        {
          "data": {
            "text/plain": [
              "[(512,), (784, 512), (512,), (512, 512), (512,), (512, 512), (10,), (512, 10)]"
            ]
          },
          "execution_count": 18,
          "metadata": {},
          "output_type": "execute_result"
        }
      ],
      "source": [
        "[flattened_model1_permuted_flat[key].shape for key in keys]"
      ]
    },
    {
      "cell_type": "code",
      "execution_count": 19,
      "metadata": {
        "id": "p9dd2lPbEMRA"
      },
      "outputs": [
        {
          "name": "stdout",
          "output_type": "stream",
          "text": [
            "model 1 length**2=4651.9150390625\n",
            "model 2 length**2=3739.5947265625\n",
            "model 1 + perms length**2=4651.9150390625\n",
            "model 2 + perms length**2=3739.5947265625\n"
          ]
        }
      ],
      "source": [
        "vectors_to_show = [\n",
        "    (\"model 1\", v1),\n",
        "    (\"model 2\", v2),\n",
        "    (\"model 1 + perms\", v1_perm),\n",
        "    (\"model 2 + perms\", v2_perm), \n",
        "]\n",
        "\n",
        "for vector_str, vector in vectors_to_show:\n",
        "  print(f\"{vector_str} length**2={(jnp.sum(vector**2))}\")\n",
        "\n",
        "# the permutation should preserve the length"
      ]
    },
    {
      "cell_type": "code",
      "execution_count": 20,
      "metadata": {
        "id": "P4m3dP6-EkbX"
      },
      "outputs": [
        {
          "name": "stdout",
          "output_type": "stream",
          "text": [
            "cos(model 1,model 1)=1.0\n",
            "cos(model 1,model 2)=0.007129654288291931\n",
            "cos(model 1,model 1 + perms)=0.013683654367923737\n",
            "cos(model 1,model 2 + perms)=0.28408515453338623\n",
            "cos(model 2,model 1)=0.0071296547539532185\n",
            "cos(model 2,model 2)=1.0\n",
            "cos(model 2,model 1 + perms)=0.007582949474453926\n",
            "cos(model 2,model 2 + perms)=0.0068057444877922535\n",
            "cos(model 1 + perms,model 1)=0.013683654367923737\n",
            "cos(model 1 + perms,model 2)=0.007582949940115213\n",
            "cos(model 1 + perms,model 1 + perms)=1.0\n",
            "cos(model 1 + perms,model 2 + perms)=0.007129654288291931\n",
            "cos(model 2 + perms,model 1)=0.28408515453338623\n",
            "cos(model 2 + perms,model 2)=0.0068057444877922535\n",
            "cos(model 2 + perms,model 1 + perms)=0.0071296547539532185\n",
            "cos(model 2 + perms,model 2 + perms)=1.0\n"
          ]
        }
      ],
      "source": [
        "coses_grid = np.zeros((len(vectors_to_show),len(vectors_to_show)))\n",
        "for i,(vector_str1, vector1) in enumerate(vectors_to_show):\n",
        "  for j,(vector_str2, vector2) in enumerate(vectors_to_show):\n",
        "    cos_now = jnp.sum(vector1*vector2)/jnp.sqrt(jnp.sum(vector1**2))/jnp.sqrt(jnp.sum(vector2**2))\n",
        "    print(f\"cos({vector_str1},{vector_str2})={cos_now}\")\n",
        "    coses_grid[i,j] = cos_now"
      ]
    },
    {
      "cell_type": "code",
      "execution_count": 21,
      "metadata": {
        "id": "MlyGW2Mgf8J6"
      },
      "outputs": [
        {
          "data": {
            "image/png": "[encoded data removed]",
            "text/plain": [
              "<Figure size 375x300 with 2 Axes>"
            ]
          },
          "metadata": {},
          "output_type": "display_data"
        }
      ],
      "source": [
        "import matplotlib.pyplot as plt\n",
        "\n",
        "fig = plt.figure(figsize = (5,4),dpi=75)\n",
        "plt.title(\"Log of cos between weights\\nRed=parallel, blue=ortho\",fontsize=14)\n",
        "fig.patch.set_facecolor('white')\n",
        "plt.imshow(np.log(np.abs(coses_grid)),cmap=plt.cm.bwr,origin=\"lower\")\n",
        "plt.xticks(range(len(vectors_to_show)), [x[0] for x in vectors_to_show],rotation = 90,fontsize=14)\n",
        "plt.yticks(range(len(vectors_to_show)), [x[0] for x in vectors_to_show],fontsize=14)\n",
        "plt.colorbar()\n",
        "plt.show()\n"
      ]
    },
    {
      "cell_type": "markdown",
      "metadata": {
        "id": "rQnvPmWlhbgy"
      },
      "source": [
        "## Linear interpolations of weights = test for linear mode connectivity"
      ]
    },
    {
      "cell_type": "code",
      "execution_count": 22,
      "metadata": {
        "id": "O4WSdg2uEvEO"
      },
      "outputs": [],
      "source": [
        "def get_linear_combination(factor1,vector1,factor2,vector2):\n",
        "  return dict(\n",
        "      [(key,factor1*vector1[key]+factor2*vector2[key]) for key in vector1.keys()]\n",
        "  )"
      ]
    },
    {
      "cell_type": "markdown",
      "metadata": {
        "id": "AhKPabjyyLcN"
      },
      "source": [
        "### Model 1 -> Model 2"
      ]
    },
    {
      "cell_type": "code",
      "execution_count": 23,
      "metadata": {
        "id": "OrlGik4SFbQZ"
      },
      "outputs": [
        {
          "name": "stdout",
          "output_type": "stream",
          "text": [
            "0 0.0 0.11106216\n",
            "1 0.1111111111111111 0.07035721\n",
            "2 0.2222222222222222 0.05561931\n",
            "3 0.3333333333333333 0.11935457\n",
            "4 0.4444444444444444 0.582276\n",
            "5 0.5555555555555556 0.9131387\n",
            "6 0.6666666666666666 0.2887342\n",
            "7 0.7777777777777777 0.05915867\n",
            "8 0.8888888888888888 0.067615725\n",
            "9 1.0 0.119787864\n"
          ]
        },
        {
          "data": {
            "image/png": "[encoded data removed]",
            "text/plain": [
              "<Figure size 450x375 with 1 Axes>"
            ]
          },
          "metadata": {},
          "output_type": "display_data"
        }
      ],
      "source": [
        "ts = np.linspace(0.0,1.0,10)\n",
        "\n",
        "start_vector = flattened_model1\n",
        "stop_vector = flattened_model2\n",
        "name = \"Model 1 -> Model 2\"\n",
        "\n",
        "test_losses_list = []\n",
        "test_accs_list = []\n",
        "train_losses_list = []\n",
        "train_accs_list = []\n",
        "\n",
        "for i,t in enumerate(ts):\n",
        "  new_params = get_linear_combination(\n",
        "      (1.0-t), start_vector, t, stop_vector\n",
        "  )\n",
        "  test_loss, test_accuracy = stuff[\"dataset_loss_and_accuracy\"](unflatten_params(new_params), test_ds,\n",
        "                                                                  10_000)\n",
        "  test_losses_list.append(test_loss)\n",
        "  test_accs_list.append(test_accuracy)\n",
        "\n",
        "  train_loss, train_accuracy = stuff[\"dataset_loss_and_accuracy\"](unflatten_params(new_params), train_ds,\n",
        "                                                                  60_000)\n",
        "  train_losses_list.append(train_loss)\n",
        "  train_accs_list.append(train_accuracy)\n",
        "\n",
        "  print(i,t,test_loss)\n",
        "\n",
        "plt.figure(figsize=(6,5),dpi=75)\n",
        "plt.gca().patch.set_facecolor('white')\n",
        "plt.title(f\"Linear weight interpolation\\n{name}\",fontsize=16)\n",
        "plt.plot(ts,train_losses_list,label=\"train\",marker=\"o\",color=\"crimson\",linewidth=2)\n",
        "plt.plot(ts,test_losses_list,label=\"test\",marker=\"o\",color=\"navy\",linewidth=2)\n",
        "plt.xlabel(\"Interpolation coeff\",fontsize=16)\n",
        "plt.ylabel(\"Loss\",fontsize=16)\n",
        "plt.xticks(fontsize=16)\n",
        "plt.yticks(fontsize=16)\n",
        "plt.legend(fontsize=16)\n",
        "plt.show()"
      ]
    },
    {
      "cell_type": "markdown",
      "metadata": {
        "id": "n3BA6E5PzkeK"
      },
      "source": [
        "### Model 1 -> Model 2 + permutations"
      ]
    },
    {
      "cell_type": "code",
      "execution_count": 24,
      "metadata": {
        "id": "fHqdEwS2zkeK"
      },
      "outputs": [
        {
          "name": "stdout",
          "output_type": "stream",
          "text": [
            "0 0.0 0.11106216\n",
            "1 0.1111111111111111 0.09618571\n",
            "2 0.2222222222222222 0.087511376\n",
            "3 0.3333333333333333 0.08360094\n",
            "4 0.4444444444444444 0.08316297\n",
            "5 0.5555555555555556 0.084163874\n",
            "6 0.6666666666666666 0.0859703\n",
            "7 0.7777777777777777 0.09020635\n",
            "8 0.8888888888888888 0.10041806\n",
            "9 1.0 0.119787864\n"
          ]
        },
        {
          "data": {
            "image/png": "[encoded data removed]",
            "text/plain": [
              "<Figure size 450x375 with 1 Axes>"
            ]
          },
          "metadata": {},
          "output_type": "display_data"
        }
      ],
      "source": [
        "ts = np.linspace(0.0,1.0,10)\n",
        "\n",
        "start_vector = flattened_model1\n",
        "stop_vector = flattened_model2_permuted_flat\n",
        "name = \"Model 1 -> (Model 2 + permutations)\"\n",
        "\n",
        "test_losses_list = []\n",
        "test_accs_list = []\n",
        "train_losses_list = []\n",
        "train_accs_list = []\n",
        "\n",
        "for i,t in enumerate(ts):\n",
        "  new_params = get_linear_combination(\n",
        "      (1.0-t), start_vector, t, stop_vector\n",
        "  )\n",
        "  test_loss, test_accuracy = stuff[\"dataset_loss_and_accuracy\"](unflatten_params(new_params), test_ds,\n",
        "                                                                  10_000)\n",
        "  test_losses_list.append(test_loss)\n",
        "  test_accs_list.append(test_accuracy)\n",
        "\n",
        "  train_loss, train_accuracy = stuff[\"dataset_loss_and_accuracy\"](unflatten_params(new_params), train_ds,\n",
        "                                                                  60_000)\n",
        "  train_losses_list.append(train_loss)\n",
        "  train_accs_list.append(train_accuracy)\n",
        "\n",
        "  print(i,t,test_loss)\n",
        "\n",
        "fig = plt.figure(figsize=(6,5),dpi=75)\n",
        "fig.patch.set_facecolor('white')\n",
        "plt.title(f\"Linear weight interpolation\\n{name}\",fontsize=16)\n",
        "plt.plot(ts,train_losses_list,label=\"train\",marker=\"o\",color=\"crimson\",linewidth=2)\n",
        "plt.plot(ts,test_losses_list,label=\"test\",marker=\"o\",color=\"navy\",linewidth=2)\n",
        "plt.xlabel(\"Interpolation coeff\",fontsize=16)\n",
        "plt.ylabel(\"Loss\",fontsize=16)\n",
        "plt.xticks(fontsize=16)\n",
        "plt.yticks(fontsize=16)\n",
        "plt.legend(fontsize=16)\n",
        "plt.show()"
      ]
    },
    {
      "cell_type": "markdown",
      "metadata": {
        "id": "9O0zfLfg0GHt"
      },
      "source": [
        "## Predictions"
      ]
    },
    {
      "cell_type": "code",
      "execution_count": 25,
      "metadata": {
        "id": "DBQgrut1LWt8"
      },
      "outputs": [],
      "source": [
        "def compare_predictions(\n",
        "    model1,\n",
        "    model2,\n",
        "):\n",
        "\n",
        "  _, _, logits1, _ = stuff[\"dataset_predictions\"](model1, test_ds,\n",
        "                                                                    10_000)\n",
        "  _, _, logits2, _ = stuff[\"dataset_predictions\"](model2, test_ds,\n",
        "                                                                    10_000)\n",
        "  \n",
        "  return jnp.sum(jnp.argmax(logits1[0],axis=-1) != jnp.argmax(logits2[0],axis=-1))\n",
        "  \n"
      ]
    },
    {
      "cell_type": "code",
      "execution_count": 26,
      "metadata": {
        "id": "SJ4mrJFwNlY4"
      },
      "outputs": [
        {
          "name": "stdout",
          "output_type": "stream",
          "text": [
            "Disagreemnt model 1 vs model 1=0\n",
            "Disagreemnt model 1 vs model 2=116\n",
            "Disagreemnt model 1 vs model 1 + perms=0\n",
            "Disagreemnt model 1 vs model 2 + perms=116\n",
            "Disagreemnt model 2 vs model 1=116\n",
            "Disagreemnt model 2 vs model 2=0\n",
            "Disagreemnt model 2 vs model 1 + perms=116\n",
            "Disagreemnt model 2 vs model 2 + perms=0\n",
            "Disagreemnt model 1 + perms vs model 1=0\n",
            "Disagreemnt model 1 + perms vs model 2=116\n",
            "Disagreemnt model 1 + perms vs model 1 + perms=0\n",
            "Disagreemnt model 1 + perms vs model 2 + perms=116\n",
            "Disagreemnt model 2 + perms vs model 1=116\n",
            "Disagreemnt model 2 + perms vs model 2=0\n",
            "Disagreemnt model 2 + perms vs model 1 + perms=116\n",
            "Disagreemnt model 2 + perms vs model 2 + perms=0\n"
          ]
        }
      ],
      "source": [
        "models_to_show = [\n",
        "    (\"model 1\", flattened_model1),\n",
        "    (\"model 2\", flattened_model2),\n",
        "    (\"model 1 + perms\", flattened_model1_permuted_flat),\n",
        "    (\"model 2 + perms\", flattened_model2_permuted_flat), \n",
        "]\n",
        "\n",
        "disagreement_grid = np.zeros((len(models_to_show),len(models_to_show)))\n",
        "for i,(vector_str1, vector1) in enumerate(models_to_show):\n",
        "  for j,(vector_str2, vector2) in enumerate(models_to_show):\n",
        "    disagreement_now = compare_predictions(\n",
        "        unflatten_params(vector1),\n",
        "        unflatten_params(vector2)\n",
        "        )\n",
        "    print(f\"Disagreemnt {vector_str1} vs {vector_str2}={disagreement_now}\")\n",
        "    disagreement_grid[i,j] = disagreement_now"
      ]
    },
    {
      "cell_type": "markdown",
      "metadata": {
        "id": "dL5jUqFX09Ws"
      },
      "source": [
        "## Loss landscape cuts"
      ]
    },
    {
      "cell_type": "code",
      "execution_count": 27,
      "metadata": {
        "id": "0ZLoWis0YFVN"
      },
      "outputs": [],
      "source": [
        "# reconstructing parameter dictionaries from flat vectors\n",
        "def reconstruct(vector, example_flat_model, keys):\n",
        "  i = 0\n",
        "  output = dict()\n",
        "  for key in keys:\n",
        "    shape_now = example_flat_model[key].shape\n",
        "    size_now = np.prod(shape_now)\n",
        "    data_now = vector[i:i+size_now].reshape(shape_now)\n",
        "    output[key] = data_now\n",
        "    i = i + size_now\n",
        "  return output\n",
        "\n"
      ]
    },
    {
      "cell_type": "code",
      "execution_count": 28,
      "metadata": {
        "id": "UHcrTpX_YfWC"
      },
      "outputs": [
        {
          "name": "stdout",
          "output_type": "stream",
          "text": [
            "0.0\n",
            "0.0\n",
            "0.0\n",
            "0.0\n",
            "0.0\n",
            "0.0\n",
            "0.0\n",
            "0.0\n"
          ]
        }
      ],
      "source": [
        "# testing it, should get all 0.0\n",
        "rec = reconstruct(v1, flattened_model1, flattened_model1.keys())\n",
        "for key in rec.keys():\n",
        "  print(jnp.max(jnp.abs(flattened_model1[key] - rec[key])))\n",
        "  assert jnp.max(jnp.abs(flattened_model1[key] - rec[key])) == 0.0"
      ]
    },
    {
      "cell_type": "markdown",
      "metadata": {
        "id": "JDEctgeR1KBT"
      },
      "source": [
        "### Cut model1 - model2 - (model2+perm)"
      ]
    },
    {
      "cell_type": "code",
      "execution_count": 29,
      "metadata": {
        "id": "nG_tQWNxPbHS"
      },
      "outputs": [
        {
          "name": "stdout",
          "output_type": "stream",
          "text": [
            "0/21\n",
            "1/21\n",
            "2/21\n",
            "3/21\n",
            "4/21\n",
            "5/21\n",
            "6/21\n",
            "7/21\n",
            "8/21\n",
            "9/21\n",
            "10/21\n",
            "11/21\n",
            "12/21\n",
            "13/21\n",
            "14/21\n",
            "15/21\n",
            "16/21\n",
            "17/21\n",
            "18/21\n",
            "19/21\n",
            "20/21\n"
          ]
        }
      ],
      "source": [
        "model1 = flattened_model1\n",
        "model2 = flattened_model2\n",
        "model3 = flattened_model2_permuted_flat\n",
        "cut_str = \"Model 1 - Model 2 - (Model 2 + permutations)\"\n",
        "\n",
        "keys = model1.keys()\n",
        "\n",
        "v1 = jnp.concatenate([model1[key].reshape([-1]) for key in keys],axis=0)\n",
        "v2 = jnp.concatenate([model2[key].reshape([-1]) for key in keys],axis=0)\n",
        "v3 = jnp.concatenate([model3[key].reshape([-1]) for key in keys],axis=0)\n",
        "\n",
        "basis1 = v2-v1\n",
        "basis1_normed = basis1 / jnp.sqrt(jnp.sum(basis1**2.0))\n",
        "basis2 = v3 - v1\n",
        "basis2 = basis2 - jnp.sum(basis2*basis1_normed)*basis1_normed #orthogonalization\n",
        "basis2_normed = basis2 / jnp.sqrt(jnp.sum(basis2**2.0))\n",
        "\n",
        "scale = jnp.sqrt(jnp.sum(basis1**2))\n",
        "\n",
        "t1s = np.linspace(-0.5,1.5,21)\n",
        "t2s = np.linspace(-0.5,1.5,20)\n",
        "\n",
        "acc_grid = np.zeros((len(t1s),len(t2s)))\n",
        "loss_grid = np.zeros((len(t1s),len(t2s)))\n",
        "logits_grid = np.zeros((len(t1s),len(t2s), 10000, 10))\n",
        "\n",
        "for i1,t1 in enumerate(t1s):\n",
        "  print(f\"{i1}/{len(t1s)}\")\n",
        "  for i2,t2 in enumerate(t2s):\n",
        "\n",
        "    new_flat_v = v1 + basis1_normed*t1*scale + basis2_normed*t2*scale\n",
        "    reconstructed_flat = reconstruct(new_flat_v, model1, keys)\n",
        "    actest_loss, test_accuracy, logits, onehots = stuff[\"dataset_predictions\"](unflatten_params(reconstructed_flat), test_ds,\n",
        "                                                                  10_000)\n",
        "    logits_grid[i1,i2] = np.array(logits[0])\n",
        "    \n",
        "    acc_grid[i1,i2] = test_accuracy\n",
        "    loss_grid[i1,i2] = actest_loss\n",
        "  \n",
        "def projection(vector):\n",
        "  x = jnp.sum((vector - v1)*basis1_normed)/scale\n",
        "  y = jnp.sum((vector - v1)*basis2_normed)/scale\n",
        "  return x,y\n",
        "\n"
      ]
    },
    {
      "cell_type": "code",
      "execution_count": 30,
      "metadata": {
        "id": "Xj99g13mNpcO"
      },
      "outputs": [
        {
          "data": {
            "image/png": "[encoded data removed]",
            "text/plain": [
              "<Figure size 600x500 with 2 Axes>"
            ]
          },
          "metadata": {},
          "output_type": "display_data"
        }
      ],
      "source": [
        "import matplotlib.pyplot as plt\n",
        "\n",
        "fig = plt.figure(figsize = (6,5),dpi=100)\n",
        "fig.patch.set_facecolor('white')\n",
        "plt.title(f\"Test loss weight space cut\\n{cut_str}\")\n",
        "\n",
        "plt.contourf(t1s,t2s,loss_grid.T,cmap=plt.cm.Greens_r,vmax=2.2,levels=400)\n",
        "plt.colorbar()\n",
        "\n",
        "x1,y1 = projection(v1)\n",
        "plt.scatter([x1],[y1],marker=\"o\",color=\"red\",label=\"model 1\",s=150)\n",
        "\n",
        "x2,y2 = projection(v2)\n",
        "plt.scatter([x2],[y2],marker=\"s\",color=\"blue\",label=\"model 2\",s=150)\n",
        "\n",
        "x2p,y2p = projection(v3)\n",
        "plt.scatter([x2p],[y2p],marker=\"^\",color=\"aqua\",label=\"model 2\\npermuted\",s=150)\n",
        "\n",
        "\n",
        "plt.plot([x1,x2p],[y1,y2p],linewidth=2,linestyle=\"--\",color=\"fuchsia\",label=\"Not connected?!?\")\n",
        "\n",
        "plt.xlabel(\"Weight direction 1\",fontsize = 16)\n",
        "plt.ylabel(\"Weight direction 2\",fontsize = 16)\n",
        "\n",
        "\n",
        "plt.legend(fontsize=10,ncol=1)\n",
        "\n",
        "plt.show()"
      ]
    },
    {
      "cell_type": "markdown",
      "metadata": {
        "id": "fEsbxWxbLcgH"
      },
      "source": [
        "## Combined plot"
      ]
    },
    {
      "cell_type": "code",
      "execution_count": 31,
      "metadata": {
        "id": "i85JbMXcMbHO"
      },
      "outputs": [],
      "source": [
        "def get_linear_cut(start_vector, stop_vector, steps=10):\n",
        "\n",
        "  ts = np.linspace(0.0,1.0,steps)\n",
        "\n",
        "  test_losses_list = []\n",
        "  test_accs_list = []\n",
        "  train_losses_list = []\n",
        "  train_accs_list = []\n",
        "\n",
        "  for i,t in enumerate(ts):\n",
        "    new_params = get_linear_combination(\n",
        "        (1.0-t), start_vector, t, stop_vector\n",
        "    )\n",
        "    test_loss, test_accuracy = stuff[\"dataset_loss_and_accuracy\"](unflatten_params(new_params), test_ds,\n",
        "                                                                    10_000)\n",
        "    test_losses_list.append(test_loss)\n",
        "    test_accs_list.append(test_accuracy)\n",
        "\n",
        "    train_loss, train_accuracy = stuff[\"dataset_loss_and_accuracy\"](unflatten_params(new_params), train_ds,\n",
        "                                                                    60_000)\n",
        "    train_losses_list.append(train_loss)\n",
        "    train_accs_list.append(train_accuracy)\n",
        "\n",
        "  return ts, test_losses_list, test_accs_list, train_losses_list, train_accs_list\n"
      ]
    },
    {
      "cell_type": "code",
      "execution_count": 32,
      "metadata": {
        "id": "7sHbZDUxLdeB"
      },
      "outputs": [
        {
          "data": {
            "image/png": "[encoded data removed]",
            "text/plain": [
              "<Figure size 900x450 with 5 Axes>"
            ]
          },
          "metadata": {},
          "output_type": "display_data"
        }
      ],
      "source": [
        "import matplotlib.pyplot as plt\n",
        "\n",
        "fig = plt.figure(figsize=(12, 6), dpi = 75)\n",
        "fig.patch.set_facecolor('white')\n",
        "\n",
        "plt.suptitle(\"Git Re-Basin (MLP on MNIST)\\nThe permuted model 2 is NOT linearly connected?!?\")\n",
        "\n",
        "plt.subplot(1,2,1)\n",
        "\n",
        "plt.title(f\"Test loss weight space cut\\n{cut_str}\")\n",
        "\n",
        "plt.contourf(t1s,t2s,loss_grid.T,cmap=plt.cm.Greens_r,vmax=2.2,levels=400)\n",
        "plt.colorbar()\n",
        "\n",
        "x1,y1 = projection(v1)\n",
        "plt.scatter([x1],[y1],marker=\"o\",color=\"red\",label=\"model 1\",s=150)\n",
        "\n",
        "x2,y2 = projection(v2)\n",
        "plt.scatter([x2],[y2],marker=\"s\",color=\"blue\",label=\"model 2\",s=150)\n",
        "\n",
        "x2p,y2p = projection(v3)\n",
        "plt.scatter([x2p],[y2p],marker=\"^\",color=\"aqua\",label=\"model 2\\npermuted\",s=150)\n",
        "\n",
        "\n",
        "plt.plot([x1,x2],[y1,y2],linewidth=2,linestyle=\"--\",color=\"fuchsia\")\n",
        "plt.plot([x2,x2p],[y2,y2p],linewidth=2,linestyle=\"--\",color=\"lime\")\n",
        "plt.plot([x1,x2p],[y1,y2p],linewidth=2,linestyle=\"--\",color=\"blue\")\n",
        "\n",
        "\n",
        "plt.xlabel(\"Weight direction 1\",fontsize = 16)\n",
        "plt.ylabel(\"Weight direction 2\",fontsize = 16)\n",
        "\n",
        "plt.legend(fontsize=10,ncol=1)\n",
        "\n",
        "# getting the data\n",
        "all_test_losses = []\n",
        "ts, test_losses_list, test_accs_list, train_losses_list, train_accs_list = get_linear_cut(flattened_model1, flattened_model2_permuted_flat, 10)\n",
        "all_test_losses += test_losses_list\n",
        "ts, test_losses_list, test_accs_list, train_losses_list, train_accs_list = get_linear_cut(flattened_model2, flattened_model2_permuted_flat, 10)\n",
        "all_test_losses += test_losses_list\n",
        "ts, test_losses_list, test_accs_list, train_losses_list, train_accs_list = get_linear_cut(flattened_model1, flattened_model2, 10)\n",
        "all_test_losses += test_losses_list\n",
        "\n",
        "lower_lim = np.min(test_losses_list)-(np.max(test_losses_list)-np.min(test_losses_list))*0.1\n",
        "upper_lim = np.max(test_losses_list)+(np.max(test_losses_list)-np.min(test_losses_list))*0.1\n",
        "\n",
        "\n",
        "plt.subplot(3,2,2)\n",
        "\n",
        "ts, test_losses_list, test_accs_list, train_losses_list, train_accs_list = get_linear_cut(flattened_model1, flattened_model2_permuted_flat, 10)\n",
        "\n",
        "plt.title(f\"(Model 2 + perm) -> Model 1\",fontsize=12)\n",
        "plt.plot(ts,train_losses_list,label=\"train\",marker=\"o\",color=\"blue\",linewidth=2)\n",
        "plt.xlabel(\"Interpolation coeff\",fontsize=12)\n",
        "plt.ylabel(\"Loss\",fontsize=12)\n",
        "plt.ylim([lower_lim, upper_lim])\n",
        "\n",
        "\n",
        "plt.subplot(3,2,4)\n",
        "ts, test_losses_list, test_accs_list, train_losses_list, train_accs_list = get_linear_cut(flattened_model2, flattened_model2_permuted_flat, 10)\n",
        "plt.title(f\"Model 2 -> (Model 2 + perm)\",fontsize=12)\n",
        "plt.plot(ts,test_losses_list,label=\"test\",marker=\"o\",color=\"lime\",linewidth=2)\n",
        "plt.xlabel(\"Interpolation coeff\",fontsize=12)\n",
        "plt.ylabel(\"Loss\",fontsize=12)\n",
        "plt.ylim([lower_lim, upper_lim])\n",
        "\n",
        "plt.subplot(3,2,6)\n",
        "ts, test_losses_list, test_accs_list, train_losses_list, train_accs_list = get_linear_cut(flattened_model1, flattened_model2, 10)\n",
        "plt.title(f\"Model 1 -> Model 2\",fontsize=12)\n",
        "plt.plot(ts,test_losses_list,label=\"test\",marker=\"o\",color=\"fuchsia\",linewidth=2)\n",
        "plt.ylim([np.min(test_losses_list),np.max(test_losses_list)])\n",
        "plt.xlabel(\"Interpolation coeff\",fontsize=12)\n",
        "plt.ylabel(\"Loss\",fontsize=12)\n",
        "\n",
        "plt.ylim([lower_lim, upper_lim])\n",
        "\n",
        "plt.tight_layout()\n",
        "plt.subplots_adjust(top=0.85)\n",
        "plt.show()"
      ]
    },
    {
      "cell_type": "code",
      "execution_count": 33,
      "metadata": {
        "id": "vJ3pg-Ack-BU"
      },
      "outputs": [
        {
          "name": "stdout",
          "output_type": "stream",
          "text": [
            "[DeviceArray(0.11106216, dtype=float32), DeviceArray(0.10780515, dtype=float32), DeviceArray(0.10476124, dtype=float32), DeviceArray(0.10196981, dtype=float32), DeviceArray(0.09941585, dtype=float32), DeviceArray(0.09715081, dtype=float32), DeviceArray(0.0950475, dtype=float32), DeviceArray(0.09321237, dtype=float32), DeviceArray(0.09157801, dtype=float32), DeviceArray(0.08998854, dtype=float32), DeviceArray(0.08859752, dtype=float32), DeviceArray(0.08739248, dtype=float32), DeviceArray(0.08642055, dtype=float32), DeviceArray(0.08554929, dtype=float32), DeviceArray(0.08480099, dtype=float32), DeviceArray(0.08419503, dtype=float32), DeviceArray(0.08372165, dtype=float32), DeviceArray(0.08341914, dtype=float32), DeviceArray(0.08329253, dtype=float32), DeviceArray(0.08320229, dtype=float32), DeviceArray(0.08313642, dtype=float32), DeviceArray(0.08312923, dtype=float32), DeviceArray(0.08317737, dtype=float32), DeviceArray(0.08325011, dtype=float32), DeviceArray(0.08343706, dtype=float32), DeviceArray(0.08365466, dtype=float32), DeviceArray(0.08387201, dtype=float32), DeviceArray(0.08411817, dtype=float32), DeviceArray(0.08436217, dtype=float32), DeviceArray(0.08467886, dtype=float32), DeviceArray(0.08501486, dtype=float32), DeviceArray(0.0853821, dtype=float32), DeviceArray(0.08572352, dtype=float32), DeviceArray(0.08610924, dtype=float32), DeviceArray(0.08661149, dtype=float32), DeviceArray(0.08730627, dtype=float32), DeviceArray(0.08814565, dtype=float32), DeviceArray(0.08907232, dtype=float32), DeviceArray(0.09008685, dtype=float32), DeviceArray(0.09128032, dtype=float32), DeviceArray(0.09262585, dtype=float32), DeviceArray(0.09438403, dtype=float32), DeviceArray(0.09647157, dtype=float32), DeviceArray(0.09888112, dtype=float32), DeviceArray(0.10166752, dtype=float32), DeviceArray(0.10466906, dtype=float32), DeviceArray(0.10788948, dtype=float32), DeviceArray(0.11150563, dtype=float32), DeviceArray(0.11548511, dtype=float32), DeviceArray(0.11978786, dtype=float32)]\n",
            "[DeviceArray(0.9851, dtype=float32), DeviceArray(0.9853, dtype=float32), DeviceArray(0.9853, dtype=float32), DeviceArray(0.9856, dtype=float32), DeviceArray(0.9857, dtype=float32), DeviceArray(0.9857, dtype=float32), DeviceArray(0.9856, dtype=float32), DeviceArray(0.9853, dtype=float32), DeviceArray(0.9852, dtype=float32), DeviceArray(0.9853, dtype=float32), DeviceArray(0.9853, dtype=float32), DeviceArray(0.9853, dtype=float32), DeviceArray(0.985, dtype=float32), DeviceArray(0.9848, dtype=float32), DeviceArray(0.9852, dtype=float32), DeviceArray(0.985, dtype=float32), DeviceArray(0.9851, dtype=float32), DeviceArray(0.9849, dtype=float32), DeviceArray(0.9844, dtype=float32), DeviceArray(0.9842, dtype=float32), DeviceArray(0.9838, dtype=float32), DeviceArray(0.9838, dtype=float32), DeviceArray(0.9836, dtype=float32), DeviceArray(0.9835, dtype=float32), DeviceArray(0.9833, dtype=float32), DeviceArray(0.9833, dtype=float32), DeviceArray(0.9833, dtype=float32), DeviceArray(0.9834, dtype=float32), DeviceArray(0.9831, dtype=float32), DeviceArray(0.9832, dtype=float32), DeviceArray(0.9832, dtype=float32), DeviceArray(0.9834, dtype=float32), DeviceArray(0.9838, dtype=float32), DeviceArray(0.984, dtype=float32), DeviceArray(0.9843, dtype=float32), DeviceArray(0.9845, dtype=float32), DeviceArray(0.9846, dtype=float32), DeviceArray(0.9845, dtype=float32), DeviceArray(0.9844, dtype=float32), DeviceArray(0.9843, dtype=float32), DeviceArray(0.9847, dtype=float32), DeviceArray(0.9848, dtype=float32), DeviceArray(0.9849, dtype=float32), DeviceArray(0.9849, dtype=float32), DeviceArray(0.9847, dtype=float32), DeviceArray(0.9848, dtype=float32), DeviceArray(0.9848, dtype=float32), DeviceArray(0.9848, dtype=float32), DeviceArray(0.9846, dtype=float32), DeviceArray(0.9849, dtype=float32)]\n"
          ]
        }
      ],
      "source": [
        "\n",
        "ts, test_losses_list, test_accs_list, train_losses_list, train_accs_list = get_linear_cut(flattened_model1, flattened_model2_permuted_flat, 50)\n",
        "print(test_losses_list)\n",
        "print(test_accs_list)"
      ]
    },
    {
      "cell_type": "code",
      "execution_count": 37,
      "metadata": {},
      "outputs": [
        {
          "data": {
            "text/plain": [
              "0.11106216162443161"
            ]
          },
          "execution_count": 37,
          "metadata": {},
          "output_type": "execute_result"
        }
      ],
      "source": []
    }
  ],
  "metadata": {
    "accelerator": "GPU",
    "colab": {
      "collapsed_sections": [],
      "machine_shape": "hm",
      "provenance": []
    },
    "gpuClass": "standard",
    "kernelspec": {
      "display_name": "Python 3.7.13 ('george-37-v3')",
      "language": "python",
      "name": "python3"
    },
    "language_info": {
      "codemirror_mode": {
        "name": "ipython",
        "version": 3
      },
      "file_extension": ".py",
      "mimetype": "text/x-python",
      "name": "python",
      "nbconvert_exporter": "python",
      "pygments_lexer": "ipython3",
      "version": "3.7.13"
    },
    "vscode": {
      "interpreter": {
        "hash": "357a9754b3f9b43d18b25b66e5e92e883fce00c7f4cc1e64fb26a5d9fc9bfab1"
      }
    },
    "widgets": {
      "application/vnd.jupyter.widget-state+json": {
        "14859631937b4249a27e61fe9bb828c0": {
          "model_module": "@jupyter-widgets/controls",
          "model_module_version": "1.5.0",
          "model_name": "DescriptionStyleModel",
          "state": {
            "_model_module": "@jupyter-widgets/controls",
            "_model_module_version": "1.5.0",
            "_model_name": "DescriptionStyleModel",
            "_view_count": null,
            "_view_module": "@jupyter-widgets/base",
            "_view_module_version": "1.2.0",
            "_view_name": "StyleView",
            "description_width": ""
          }
        },
        "1ed25bd315ec464896e60879a6b85945": {
          "model_module": "@jupyter-widgets/controls",
          "model_module_version": "1.5.0",
          "model_name": "ProgressStyleModel",
          "state": {
            "_model_module": "@jupyter-widgets/controls",
            "_model_module_version": "1.5.0",
            "_model_name": "ProgressStyleModel",
            "_view_count": null,
            "_view_module": "@jupyter-widgets/base",
            "_view_module_version": "1.2.0",
            "_view_name": "StyleView",
            "bar_color": null,
            "description_width": ""
          }
        },
        "40ff82102df64bc7852563e0bbeee314": {
          "model_module": "@jupyter-widgets/base",
          "model_module_version": "1.2.0",
          "model_name": "LayoutModel",
          "state": {
            "_model_module": "@jupyter-widgets/base",
            "_model_module_version": "1.2.0",
            "_model_name": "LayoutModel",
            "_view_count": null,
            "_view_module": "@jupyter-widgets/base",
            "_view_module_version": "1.2.0",
            "_view_name": "LayoutView",
            "align_content": null,
            "align_items": null,
            "align_self": null,
            "border": null,
            "bottom": null,
            "display": null,
            "flex": null,
            "flex_flow": null,
            "grid_area": null,
            "grid_auto_columns": null,
            "grid_auto_flow": null,
            "grid_auto_rows": null,
            "grid_column": null,
            "grid_gap": null,
            "grid_row": null,
            "grid_template_areas": null,
            "grid_template_columns": null,
            "grid_template_rows": null,
            "height": null,
            "justify_content": null,
            "justify_items": null,
            "left": null,
            "margin": null,
            "max_height": null,
            "max_width": null,
            "min_height": null,
            "min_width": null,
            "object_fit": null,
            "object_position": null,
            "order": null,
            "overflow": null,
            "overflow_x": null,
            "overflow_y": null,
            "padding": null,
            "right": null,
            "top": null,
            "visibility": null,
            "width": null
          }
        },
        "4899b2ef4b4d4905b52817025a69d769": {
          "model_module": "@jupyter-widgets/base",
          "model_module_version": "1.2.0",
          "model_name": "LayoutModel",
          "state": {
            "_model_module": "@jupyter-widgets/base",
            "_model_module_version": "1.2.0",
            "_model_name": "LayoutModel",
            "_view_count": null,
            "_view_module": "@jupyter-widgets/base",
            "_view_module_version": "1.2.0",
            "_view_name": "LayoutView",
            "align_content": null,
            "align_items": null,
            "align_self": null,
            "border": null,
            "bottom": null,
            "display": null,
            "flex": null,
            "flex_flow": null,
            "grid_area": null,
            "grid_auto_columns": null,
            "grid_auto_flow": null,
            "grid_auto_rows": null,
            "grid_column": null,
            "grid_gap": null,
            "grid_row": null,
            "grid_template_areas": null,
            "grid_template_columns": null,
            "grid_template_rows": null,
            "height": null,
            "justify_content": null,
            "justify_items": null,
            "left": null,
            "margin": null,
            "max_height": null,
            "max_width": null,
            "min_height": null,
            "min_width": null,
            "object_fit": null,
            "object_position": null,
            "order": null,
            "overflow": null,
            "overflow_x": null,
            "overflow_y": null,
            "padding": null,
            "right": null,
            "top": null,
            "visibility": null,
            "width": null
          }
        },
        "9bb9d0cdd29946efb62db19011fbbec2": {
          "model_module": "@jupyter-widgets/controls",
          "model_module_version": "1.5.0",
          "model_name": "HTMLModel",
          "state": {
            "_dom_classes": [],
            "_model_module": "@jupyter-widgets/controls",
            "_model_module_version": "1.5.0",
            "_model_name": "HTMLModel",
            "_view_count": null,
            "_view_module": "@jupyter-widgets/controls",
            "_view_module_version": "1.5.0",
            "_view_name": "HTMLView",
            "description": "",
            "description_tooltip": null,
            "layout": "IPY_MODEL_4899b2ef4b4d4905b52817025a69d769",
            "placeholder": "​",
            "style": "IPY_MODEL_14859631937b4249a27e61fe9bb828c0",
            "value": " 4/4 [00:00&lt;00:00,  6.19 file/s]"
          }
        },
        "ad4d3e512f2c473bb1767b4687a972ab": {
          "model_module": "@jupyter-widgets/controls",
          "model_module_version": "1.5.0",
          "model_name": "FloatProgressModel",
          "state": {
            "_dom_classes": [],
            "_model_module": "@jupyter-widgets/controls",
            "_model_module_version": "1.5.0",
            "_model_name": "FloatProgressModel",
            "_view_count": null,
            "_view_module": "@jupyter-widgets/controls",
            "_view_module_version": "1.5.0",
            "_view_name": "ProgressView",
            "bar_style": "success",
            "description": "",
            "description_tooltip": null,
            "layout": "IPY_MODEL_f5d387618fd34921a6b3364307c5efa2",
            "max": 4,
            "min": 0,
            "orientation": "horizontal",
            "style": "IPY_MODEL_1ed25bd315ec464896e60879a6b85945",
            "value": 4
          }
        },
        "bc42a5f233814a9484a158d62d20d852": {
          "model_module": "@jupyter-widgets/controls",
          "model_module_version": "1.5.0",
          "model_name": "HBoxModel",
          "state": {
            "_dom_classes": [],
            "_model_module": "@jupyter-widgets/controls",
            "_model_module_version": "1.5.0",
            "_model_name": "HBoxModel",
            "_view_count": null,
            "_view_module": "@jupyter-widgets/controls",
            "_view_module_version": "1.5.0",
            "_view_name": "HBoxView",
            "box_style": "",
            "children": [
              "IPY_MODEL_c1d1f10c14904a2cbc020e1613a4f3fa",
              "IPY_MODEL_ad4d3e512f2c473bb1767b4687a972ab",
              "IPY_MODEL_9bb9d0cdd29946efb62db19011fbbec2"
            ],
            "layout": "IPY_MODEL_dbecc29351ea4d8dac92e6a2f5c45998"
          }
        },
        "c1d1f10c14904a2cbc020e1613a4f3fa": {
          "model_module": "@jupyter-widgets/controls",
          "model_module_version": "1.5.0",
          "model_name": "HTMLModel",
          "state": {
            "_dom_classes": [],
            "_model_module": "@jupyter-widgets/controls",
            "_model_module_version": "1.5.0",
            "_model_name": "HTMLModel",
            "_view_count": null,
            "_view_module": "@jupyter-widgets/controls",
            "_view_module_version": "1.5.0",
            "_view_name": "HTMLView",
            "description": "",
            "description_tooltip": null,
            "layout": "IPY_MODEL_40ff82102df64bc7852563e0bbeee314",
            "placeholder": "​",
            "style": "IPY_MODEL_e222493f34d34ea78e1267cd658199d8",
            "value": "Dl Completed...: 100%"
          }
        },
        "dbecc29351ea4d8dac92e6a2f5c45998": {
          "model_module": "@jupyter-widgets/base",
          "model_module_version": "1.2.0",
          "model_name": "LayoutModel",
          "state": {
            "_model_module": "@jupyter-widgets/base",
            "_model_module_version": "1.2.0",
            "_model_name": "LayoutModel",
            "_view_count": null,
            "_view_module": "@jupyter-widgets/base",
            "_view_module_version": "1.2.0",
            "_view_name": "LayoutView",
            "align_content": null,
            "align_items": null,
            "align_self": null,
            "border": null,
            "bottom": null,
            "display": null,
            "flex": null,
            "flex_flow": null,
            "grid_area": null,
            "grid_auto_columns": null,
            "grid_auto_flow": null,
            "grid_auto_rows": null,
            "grid_column": null,
            "grid_gap": null,
            "grid_row": null,
            "grid_template_areas": null,
            "grid_template_columns": null,
            "grid_template_rows": null,
            "height": null,
            "justify_content": null,
            "justify_items": null,
            "left": null,
            "margin": null,
            "max_height": null,
            "max_width": null,
            "min_height": null,
            "min_width": null,
            "object_fit": null,
            "object_position": null,
            "order": null,
            "overflow": null,
            "overflow_x": null,
            "overflow_y": null,
            "padding": null,
            "right": null,
            "top": null,
            "visibility": null,
            "width": null
          }
        },
        "e222493f34d34ea78e1267cd658199d8": {
          "model_module": "@jupyter-widgets/controls",
          "model_module_version": "1.5.0",
          "model_name": "DescriptionStyleModel",
          "state": {
            "_model_module": "@jupyter-widgets/controls",
            "_model_module_version": "1.5.0",
            "_model_name": "DescriptionStyleModel",
            "_view_count": null,
            "_view_module": "@jupyter-widgets/base",
            "_view_module_version": "1.2.0",
            "_view_name": "StyleView",
            "description_width": ""
          }
        },
        "f5d387618fd34921a6b3364307c5efa2": {
          "model_module": "@jupyter-widgets/base",
          "model_module_version": "1.2.0",
          "model_name": "LayoutModel",
          "state": {
            "_model_module": "@jupyter-widgets/base",
            "_model_module_version": "1.2.0",
            "_model_name": "LayoutModel",
            "_view_count": null,
            "_view_module": "@jupyter-widgets/base",
            "_view_module_version": "1.2.0",
            "_view_name": "LayoutView",
            "align_content": null,
            "align_items": null,
            "align_self": null,
            "border": null,
            "bottom": null,
            "display": null,
            "flex": null,
            "flex_flow": null,
            "grid_area": null,
            "grid_auto_columns": null,
            "grid_auto_flow": null,
            "grid_auto_rows": null,
            "grid_column": null,
            "grid_gap": null,
            "grid_row": null,
            "grid_template_areas": null,
            "grid_template_columns": null,
            "grid_template_rows": null,
            "height": null,
            "justify_content": null,
            "justify_items": null,
            "left": null,
            "margin": null,
            "max_height": null,
            "max_width": null,
            "min_height": null,
            "min_width": null,
            "object_fit": null,
            "object_position": null,
            "order": null,
            "overflow": null,
            "overflow_x": null,
            "overflow_y": null,
            "padding": null,
            "right": null,
            "top": null,
            "visibility": null,
            "width": null
          }
        }
      }
    }
  },
  "nbformat": 4,
  "nbformat_minor": 0
}
